{
 "cells": [
  {
   "cell_type": "code",
   "execution_count": 22,
   "metadata": {},
   "outputs": [],
   "source": [
    "# Get required libraries \n",
    "import numpy as np\n",
    "import pylab as pl\n",
    "import pandas as pd\n",
    "import matplotlib.pyplot as plt \n",
    "import seaborn as sns\n",
    "from sklearn.utils import shuffle\n",
    "from sklearn.svm import SVC\n",
    "from sklearn.metrics import confusion_matrix, classification_report\n",
    "from sklearn.model_selection import cross_val_score, GridSearchCV, train_test_split"
   ]
  },
  {
   "cell_type": "code",
   "execution_count": 3,
   "metadata": {},
   "outputs": [],
   "source": [
    "#Load train and test datasets and shuffle the data \n",
    "import time\n",
    "start = time.process_time()\n",
    "train = (pd.read_csv(\"./Dataset/final.csv\"))"
   ]
  },
  {
   "cell_type": "code",
   "execution_count": 8,
   "metadata": {},
   "outputs": [
    {
     "output_type": "execute_result",
     "data": {
      "text/plain": [
       "Down     51\n",
       "Right    51\n",
       "Forth    51\n",
       "Left     41\n",
       "Up       40\n",
       "Name: Activity, dtype: int64"
      ]
     },
     "metadata": {},
     "execution_count": 8
    }
   ],
   "source": [
    "train.head()\n",
    "train.shape\n",
    "train.count()\n",
    "train['Activity'].value_counts()"
   ]
  },
  {
   "cell_type": "code",
   "execution_count": 12,
   "metadata": {},
   "outputs": [
    {
     "output_type": "execute_result",
     "data": {
      "text/plain": [
       "Activity    234\n",
       "ACC X       234\n",
       "ACC Y       234\n",
       "ACC Z       234\n",
       "GYRO X      234\n",
       "GYRO Y      234\n",
       "GYRO Z      234\n",
       "dtype: int64"
      ]
     },
     "metadata": {},
     "execution_count": 12
    }
   ],
   "source": [
    "train.count()"
   ]
  },
  {
   "cell_type": "code",
   "execution_count": 10,
   "metadata": {},
   "outputs": [],
   "source": [
    "Down = train[train['Activity'] == 'Down'][0:150]\n",
    "Right = train[train['Activity'] == 'Right'][0:150]\n",
    "Forth = train[train['Activity'] == 'Forth'][0:150]\n",
    "Left = train[train['Activity'] == 'Left'][0:150]\n",
    "Up = train[train['Activity'] == 'Up'][0:150]"
   ]
  },
  {
   "cell_type": "code",
   "execution_count": 13,
   "metadata": {},
   "outputs": [
    {
     "output_type": "execute_result",
     "data": {
      "text/plain": [
       "<AxesSubplot:xlabel='ACC X', ylabel='ACC Y'>"
      ]
     },
     "metadata": {},
     "execution_count": 13
    },
    {
     "output_type": "display_data",
     "data": {
      "text/plain": "<Figure size 432x288 with 1 Axes>",
      "image/svg+xml": "<?xml version=\"1.0\" encoding=\"utf-8\" standalone=\"no\"?>\r\n<!DOCTYPE svg PUBLIC \"-//W3C//DTD SVG 1.1//EN\"\r\n  \"http://www.w3.org/Graphics/SVG/1.1/DTD/svg11.dtd\">\r\n<!-- Created with matplotlib (https://matplotlib.org/) -->\r\n<svg height=\"262.19625pt\" version=\"1.1\" viewBox=\"0 0 394.160937 262.19625\" width=\"394.160937pt\" xmlns=\"http://www.w3.org/2000/svg\" xmlns:xlink=\"http://www.w3.org/1999/xlink\">\r\n <metadata>\r\n  <rdf:RDF xmlns:cc=\"http://creativecommons.org/ns#\" xmlns:dc=\"http://purl.org/dc/elements/1.1/\" xmlns:rdf=\"http://www.w3.org/1999/02/22-rdf-syntax-ns#\">\r\n   <cc:Work>\r\n    <dc:type rdf:resource=\"http://purl.org/dc/dcmitype/StillImage\"/>\r\n    <dc:date>2021-05-25T17:17:23.976402</dc:date>\r\n    <dc:format>image/svg+xml</dc:format>\r\n    <dc:creator>\r\n     <cc:Agent>\r\n      <dc:title>Matplotlib v3.3.4, https://matplotlib.org/</dc:title>\r\n     </cc:Agent>\r\n    </dc:creator>\r\n   </cc:Work>\r\n  </rdf:RDF>\r\n </metadata>\r\n <defs>\r\n  <style type=\"text/css\">*{stroke-linecap:butt;stroke-linejoin:round;}</style>\r\n </defs>\r\n <g id=\"figure_1\">\r\n  <g id=\"patch_1\">\r\n   <path d=\"M 0 262.19625 \r\nL 394.160937 262.19625 \r\nL 394.160937 0 \r\nL 0 0 \r\nz\r\n\" style=\"fill:none;\"/>\r\n  </g>\r\n  <g id=\"axes_1\">\r\n   <g id=\"patch_2\">\r\n    <path d=\"M 52.160938 224.64 \r\nL 386.960938 224.64 \r\nL 386.960938 7.2 \r\nL 52.160938 7.2 \r\nz\r\n\" style=\"fill:#ffffff;\"/>\r\n   </g>\r\n   <g id=\"PathCollection_1\">\r\n    <defs>\r\n     <path d=\"M 0 2.236068 \r\nC 0.593012 2.236068 1.161816 2.000462 1.581139 1.581139 \r\nC 2.000462 1.161816 2.236068 0.593012 2.236068 0 \r\nC 2.236068 -0.593012 2.000462 -1.161816 1.581139 -1.581139 \r\nC 1.161816 -2.000462 0.593012 -2.236068 0 -2.236068 \r\nC -0.593012 -2.236068 -1.161816 -2.000462 -1.581139 -1.581139 \r\nC -2.000462 -1.161816 -2.236068 -0.593012 -2.236068 0 \r\nC -2.236068 0.593012 -2.000462 1.161816 -1.581139 1.581139 \r\nC -1.161816 2.000462 -0.593012 2.236068 0 2.236068 \r\nz\r\n\" id=\"mac5dec5a42\" style=\"stroke:#0000ff;\"/>\r\n    </defs>\r\n    <g clip-path=\"url(#pb536822708)\">\r\n     <use style=\"fill:#0000ff;stroke:#0000ff;\" x=\"93.492301\" xlink:href=\"#mac5dec5a42\" y=\"23.48772\"/>\r\n     <use style=\"fill:#0000ff;stroke:#0000ff;\" x=\"113.22226\" xlink:href=\"#mac5dec5a42\" y=\"37.896909\"/>\r\n     <use style=\"fill:#0000ff;stroke:#0000ff;\" x=\"351.142357\" xlink:href=\"#mac5dec5a42\" y=\"95.106727\"/>\r\n     <use style=\"fill:#0000ff;stroke:#0000ff;\" x=\"293.113065\" xlink:href=\"#mac5dec5a42\" y=\"177.826146\"/>\r\n     <use style=\"fill:#0000ff;stroke:#0000ff;\" x=\"222.317329\" xlink:href=\"#mac5dec5a42\" y=\"206.004115\"/>\r\n     <use style=\"fill:#0000ff;stroke:#0000ff;\" x=\"210.71147\" xlink:href=\"#mac5dec5a42\" y=\"203.976156\"/>\r\n     <use style=\"fill:#0000ff;stroke:#0000ff;\" x=\"221.737036\" xlink:href=\"#mac5dec5a42\" y=\"204.08289\"/>\r\n     <use style=\"fill:#0000ff;stroke:#0000ff;\" x=\"67.379119\" xlink:href=\"#mac5dec5a42\" y=\"17.083636\"/>\r\n     <use style=\"fill:#0000ff;stroke:#0000ff;\" x=\"72.021463\" xlink:href=\"#mac5dec5a42\" y=\"17.61731\"/>\r\n     <use style=\"fill:#0000ff;stroke:#0000ff;\" x=\"152.101886\" xlink:href=\"#mac5dec5a42\" y=\"33.734255\"/>\r\n     <use style=\"fill:#0000ff;stroke:#0000ff;\" x=\"285.279111\" xlink:href=\"#mac5dec5a42\" y=\"176.972268\"/>\r\n     <use style=\"fill:#0000ff;stroke:#0000ff;\" x=\"235.37392\" xlink:href=\"#mac5dec5a42\" y=\"197.678806\"/>\r\n     <use style=\"fill:#0000ff;stroke:#0000ff;\" x=\"204.618395\" xlink:href=\"#mac5dec5a42\" y=\"204.403094\"/>\r\n     <use style=\"fill:#0000ff;stroke:#0000ff;\" x=\"206.64942\" xlink:href=\"#mac5dec5a42\" y=\"205.256972\"/>\r\n     <use style=\"fill:#0000ff;stroke:#0000ff;\" x=\"309.361267\" xlink:href=\"#mac5dec5a42\" y=\"202.802073\"/>\r\n     <use style=\"fill:#0000ff;stroke:#0000ff;\" x=\"80.43571\" xlink:href=\"#mac5dec5a42\" y=\"17.083636\"/>\r\n     <use style=\"fill:#0000ff;stroke:#0000ff;\" x=\"122.2168\" xlink:href=\"#mac5dec5a42\" y=\"25.622415\"/>\r\n     <use style=\"fill:#0000ff;stroke:#0000ff;\" x=\"244.658606\" xlink:href=\"#mac5dec5a42\" y=\"59.350591\"/>\r\n     <use style=\"fill:#0000ff;stroke:#0000ff;\" x=\"325.899615\" xlink:href=\"#mac5dec5a42\" y=\"117.414286\"/>\r\n     <use style=\"fill:#0000ff;stroke:#0000ff;\" x=\"271.642227\" xlink:href=\"#mac5dec5a42\" y=\"181.561861\"/>\r\n     <use style=\"fill:#0000ff;stroke:#0000ff;\" x=\"230.731576\" xlink:href=\"#mac5dec5a42\" y=\"208.565749\"/>\r\n     <use style=\"fill:#0000ff;stroke:#0000ff;\" x=\"206.069127\" xlink:href=\"#mac5dec5a42\" y=\"203.762686\"/>\r\n     <use style=\"fill:#0000ff;stroke:#0000ff;\" x=\"219.415864\" xlink:href=\"#mac5dec5a42\" y=\"201.734726\"/>\r\n     <use style=\"fill:#0000ff;stroke:#0000ff;\" x=\"371.742756\" xlink:href=\"#mac5dec5a42\" y=\"155.83879\"/>\r\n     <use style=\"fill:#0000ff;stroke:#0000ff;\" x=\"116.413871\" xlink:href=\"#mac5dec5a42\" y=\"19.858739\"/>\r\n     <use style=\"fill:#0000ff;stroke:#0000ff;\" x=\"115.833578\" xlink:href=\"#mac5dec5a42\" y=\"20.819352\"/>\r\n     <use style=\"fill:#0000ff;stroke:#0000ff;\" x=\"169.80082\" xlink:href=\"#mac5dec5a42\" y=\"26.369558\"/>\r\n     <use style=\"fill:#0000ff;stroke:#0000ff;\" x=\"231.892162\" xlink:href=\"#mac5dec5a42\" y=\"55.187936\"/>\r\n     <use style=\"fill:#0000ff;stroke:#0000ff;\" x=\"318.9361\" xlink:href=\"#mac5dec5a42\" y=\"116.346939\"/>\r\n     <use style=\"fill:#0000ff;stroke:#0000ff;\" x=\"273.383106\" xlink:href=\"#mac5dec5a42\" y=\"173.343287\"/>\r\n     <use style=\"fill:#0000ff;stroke:#0000ff;\" x=\"184.017996\" xlink:href=\"#mac5dec5a42\" y=\"211.447587\"/>\r\n     <use style=\"fill:#0000ff;stroke:#0000ff;\" x=\"210.71147\" xlink:href=\"#mac5dec5a42\" y=\"214.756364\"/>\r\n     <use style=\"fill:#0000ff;stroke:#0000ff;\" x=\"79.565271\" xlink:href=\"#mac5dec5a42\" y=\"17.297106\"/>\r\n     <use style=\"fill:#0000ff;stroke:#0000ff;\" x=\"82.756882\" xlink:href=\"#mac5dec5a42\" y=\"17.403841\"/>\r\n     <use style=\"fill:#0000ff;stroke:#0000ff;\" x=\"117.574457\" xlink:href=\"#mac5dec5a42\" y=\"24.661802\"/>\r\n     <use style=\"fill:#0000ff;stroke:#0000ff;\" x=\"211.291763\" xlink:href=\"#mac5dec5a42\" y=\"44.087524\"/>\r\n     <use style=\"fill:#0000ff;stroke:#0000ff;\" x=\"318.645954\" xlink:href=\"#mac5dec5a42\" y=\"91.691215\"/>\r\n     <use style=\"fill:#0000ff;stroke:#0000ff;\" x=\"303.268191\" xlink:href=\"#mac5dec5a42\" y=\"147.726951\"/>\r\n     <use style=\"fill:#0000ff;stroke:#0000ff;\" x=\"244.36846\" xlink:href=\"#mac5dec5a42\" y=\"183.696556\"/>\r\n     <use style=\"fill:#0000ff;stroke:#0000ff;\" x=\"193.592829\" xlink:href=\"#mac5dec5a42\" y=\"207.711871\"/>\r\n     <use style=\"fill:#0000ff;stroke:#0000ff;\" x=\"209.550885\" xlink:href=\"#mac5dec5a42\" y=\"203.015543\"/>\r\n     <use style=\"fill:#0000ff;stroke:#0000ff;\" x=\"224.058208\" xlink:href=\"#mac5dec5a42\" y=\"206.004115\"/>\r\n     <use style=\"fill:#0000ff;stroke:#0000ff;\" x=\"94.943033\" xlink:href=\"#mac5dec5a42\" y=\"18.044249\"/>\r\n     <use style=\"fill:#0000ff;stroke:#0000ff;\" x=\"102.486841\" xlink:href=\"#mac5dec5a42\" y=\"25.302211\"/>\r\n     <use style=\"fill:#0000ff;stroke:#0000ff;\" x=\"210.131178\" xlink:href=\"#mac5dec5a42\" y=\"34.374663\"/>\r\n     <use style=\"fill:#0000ff;stroke:#0000ff;\" x=\"271.642227\" xlink:href=\"#mac5dec5a42\" y=\"68.743248\"/>\r\n     <use style=\"fill:#0000ff;stroke:#0000ff;\" x=\"328.510933\" xlink:href=\"#mac5dec5a42\" y=\"106.740813\"/>\r\n     <use style=\"fill:#0000ff;stroke:#0000ff;\" x=\"307.040095\" xlink:href=\"#mac5dec5a42\" y=\"171.528796\"/>\r\n     <use style=\"fill:#0000ff;stroke:#0000ff;\" x=\"192.72239\" xlink:href=\"#mac5dec5a42\" y=\"210.16677\"/>\r\n     <use style=\"fill:#0000ff;stroke:#0000ff;\" x=\"194.173122\" xlink:href=\"#mac5dec5a42\" y=\"210.16677\"/>\r\n     <use style=\"fill:#0000ff;stroke:#0000ff;\" x=\"350.562064\" xlink:href=\"#mac5dec5a42\" y=\"186.685129\"/>\r\n    </g>\r\n   </g>\r\n   <g id=\"matplotlib.axis_1\">\r\n    <g id=\"xtick_1\">\r\n     <g id=\"line2d_1\">\r\n      <defs>\r\n       <path d=\"M 0 0 \r\nL 0 3.5 \r\n\" id=\"m331ea7658b\" style=\"stroke:#000000;stroke-width:0.8;\"/>\r\n      </defs>\r\n      <g>\r\n       <use style=\"stroke:#000000;stroke-width:0.8;\" x=\"85.078053\" xlink:href=\"#m331ea7658b\" y=\"224.64\"/>\r\n      </g>\r\n     </g>\r\n     <g id=\"text_1\">\r\n      <!-- 2 -->\r\n      <g transform=\"translate(81.896803 239.238437)scale(0.1 -0.1)\">\r\n       <defs>\r\n        <path d=\"M 19.1875 8.296875 \r\nL 53.609375 8.296875 \r\nL 53.609375 0 \r\nL 7.328125 0 \r\nL 7.328125 8.296875 \r\nQ 12.9375 14.109375 22.625 23.890625 \r\nQ 32.328125 33.6875 34.8125 36.53125 \r\nQ 39.546875 41.84375 41.421875 45.53125 \r\nQ 43.3125 49.21875 43.3125 52.78125 \r\nQ 43.3125 58.59375 39.234375 62.25 \r\nQ 35.15625 65.921875 28.609375 65.921875 \r\nQ 23.96875 65.921875 18.8125 64.3125 \r\nQ 13.671875 62.703125 7.8125 59.421875 \r\nL 7.8125 69.390625 \r\nQ 13.765625 71.78125 18.9375 73 \r\nQ 24.125 74.21875 28.421875 74.21875 \r\nQ 39.75 74.21875 46.484375 68.546875 \r\nQ 53.21875 62.890625 53.21875 53.421875 \r\nQ 53.21875 48.921875 51.53125 44.890625 \r\nQ 49.859375 40.875 45.40625 35.40625 \r\nQ 44.1875 33.984375 37.640625 27.21875 \r\nQ 31.109375 20.453125 19.1875 8.296875 \r\nz\r\n\" id=\"DejaVuSans-50\"/>\r\n       </defs>\r\n       <use xlink:href=\"#DejaVuSans-50\"/>\r\n      </g>\r\n     </g>\r\n    </g>\r\n    <g id=\"xtick_2\">\r\n     <g id=\"line2d_2\">\r\n      <g>\r\n       <use style=\"stroke:#000000;stroke-width:0.8;\" x=\"143.107345\" xlink:href=\"#m331ea7658b\" y=\"224.64\"/>\r\n      </g>\r\n     </g>\r\n     <g id=\"text_2\">\r\n      <!-- 4 -->\r\n      <g transform=\"translate(139.926095 239.238437)scale(0.1 -0.1)\">\r\n       <defs>\r\n        <path d=\"M 37.796875 64.3125 \r\nL 12.890625 25.390625 \r\nL 37.796875 25.390625 \r\nz\r\nM 35.203125 72.90625 \r\nL 47.609375 72.90625 \r\nL 47.609375 25.390625 \r\nL 58.015625 25.390625 \r\nL 58.015625 17.1875 \r\nL 47.609375 17.1875 \r\nL 47.609375 0 \r\nL 37.796875 0 \r\nL 37.796875 17.1875 \r\nL 4.890625 17.1875 \r\nL 4.890625 26.703125 \r\nz\r\n\" id=\"DejaVuSans-52\"/>\r\n       </defs>\r\n       <use xlink:href=\"#DejaVuSans-52\"/>\r\n      </g>\r\n     </g>\r\n    </g>\r\n    <g id=\"xtick_3\">\r\n     <g id=\"line2d_3\">\r\n      <g>\r\n       <use style=\"stroke:#000000;stroke-width:0.8;\" x=\"201.136637\" xlink:href=\"#m331ea7658b\" y=\"224.64\"/>\r\n      </g>\r\n     </g>\r\n     <g id=\"text_3\">\r\n      <!-- 6 -->\r\n      <g transform=\"translate(197.955387 239.238437)scale(0.1 -0.1)\">\r\n       <defs>\r\n        <path d=\"M 33.015625 40.375 \r\nQ 26.375 40.375 22.484375 35.828125 \r\nQ 18.609375 31.296875 18.609375 23.390625 \r\nQ 18.609375 15.53125 22.484375 10.953125 \r\nQ 26.375 6.390625 33.015625 6.390625 \r\nQ 39.65625 6.390625 43.53125 10.953125 \r\nQ 47.40625 15.53125 47.40625 23.390625 \r\nQ 47.40625 31.296875 43.53125 35.828125 \r\nQ 39.65625 40.375 33.015625 40.375 \r\nz\r\nM 52.59375 71.296875 \r\nL 52.59375 62.3125 \r\nQ 48.875 64.0625 45.09375 64.984375 \r\nQ 41.3125 65.921875 37.59375 65.921875 \r\nQ 27.828125 65.921875 22.671875 59.328125 \r\nQ 17.53125 52.734375 16.796875 39.40625 \r\nQ 19.671875 43.65625 24.015625 45.921875 \r\nQ 28.375 48.1875 33.59375 48.1875 \r\nQ 44.578125 48.1875 50.953125 41.515625 \r\nQ 57.328125 34.859375 57.328125 23.390625 \r\nQ 57.328125 12.15625 50.6875 5.359375 \r\nQ 44.046875 -1.421875 33.015625 -1.421875 \r\nQ 20.359375 -1.421875 13.671875 8.265625 \r\nQ 6.984375 17.96875 6.984375 36.375 \r\nQ 6.984375 53.65625 15.1875 63.9375 \r\nQ 23.390625 74.21875 37.203125 74.21875 \r\nQ 40.921875 74.21875 44.703125 73.484375 \r\nQ 48.484375 72.75 52.59375 71.296875 \r\nz\r\n\" id=\"DejaVuSans-54\"/>\r\n       </defs>\r\n       <use xlink:href=\"#DejaVuSans-54\"/>\r\n      </g>\r\n     </g>\r\n    </g>\r\n    <g id=\"xtick_4\">\r\n     <g id=\"line2d_4\">\r\n      <g>\r\n       <use style=\"stroke:#000000;stroke-width:0.8;\" x=\"259.165929\" xlink:href=\"#m331ea7658b\" y=\"224.64\"/>\r\n      </g>\r\n     </g>\r\n     <g id=\"text_4\">\r\n      <!-- 8 -->\r\n      <g transform=\"translate(255.984679 239.238437)scale(0.1 -0.1)\">\r\n       <defs>\r\n        <path d=\"M 31.78125 34.625 \r\nQ 24.75 34.625 20.71875 30.859375 \r\nQ 16.703125 27.09375 16.703125 20.515625 \r\nQ 16.703125 13.921875 20.71875 10.15625 \r\nQ 24.75 6.390625 31.78125 6.390625 \r\nQ 38.8125 6.390625 42.859375 10.171875 \r\nQ 46.921875 13.96875 46.921875 20.515625 \r\nQ 46.921875 27.09375 42.890625 30.859375 \r\nQ 38.875 34.625 31.78125 34.625 \r\nz\r\nM 21.921875 38.8125 \r\nQ 15.578125 40.375 12.03125 44.71875 \r\nQ 8.5 49.078125 8.5 55.328125 \r\nQ 8.5 64.0625 14.71875 69.140625 \r\nQ 20.953125 74.21875 31.78125 74.21875 \r\nQ 42.671875 74.21875 48.875 69.140625 \r\nQ 55.078125 64.0625 55.078125 55.328125 \r\nQ 55.078125 49.078125 51.53125 44.71875 \r\nQ 48 40.375 41.703125 38.8125 \r\nQ 48.828125 37.15625 52.796875 32.3125 \r\nQ 56.78125 27.484375 56.78125 20.515625 \r\nQ 56.78125 9.90625 50.3125 4.234375 \r\nQ 43.84375 -1.421875 31.78125 -1.421875 \r\nQ 19.734375 -1.421875 13.25 4.234375 \r\nQ 6.78125 9.90625 6.78125 20.515625 \r\nQ 6.78125 27.484375 10.78125 32.3125 \r\nQ 14.796875 37.15625 21.921875 38.8125 \r\nz\r\nM 18.3125 54.390625 \r\nQ 18.3125 48.734375 21.84375 45.5625 \r\nQ 25.390625 42.390625 31.78125 42.390625 \r\nQ 38.140625 42.390625 41.71875 45.5625 \r\nQ 45.3125 48.734375 45.3125 54.390625 \r\nQ 45.3125 60.0625 41.71875 63.234375 \r\nQ 38.140625 66.40625 31.78125 66.40625 \r\nQ 25.390625 66.40625 21.84375 63.234375 \r\nQ 18.3125 60.0625 18.3125 54.390625 \r\nz\r\n\" id=\"DejaVuSans-56\"/>\r\n       </defs>\r\n       <use xlink:href=\"#DejaVuSans-56\"/>\r\n      </g>\r\n     </g>\r\n    </g>\r\n    <g id=\"xtick_5\">\r\n     <g id=\"line2d_5\">\r\n      <g>\r\n       <use style=\"stroke:#000000;stroke-width:0.8;\" x=\"317.195221\" xlink:href=\"#m331ea7658b\" y=\"224.64\"/>\r\n      </g>\r\n     </g>\r\n     <g id=\"text_5\">\r\n      <!-- 10 -->\r\n      <g transform=\"translate(310.832721 239.238437)scale(0.1 -0.1)\">\r\n       <defs>\r\n        <path d=\"M 12.40625 8.296875 \r\nL 28.515625 8.296875 \r\nL 28.515625 63.921875 \r\nL 10.984375 60.40625 \r\nL 10.984375 69.390625 \r\nL 28.421875 72.90625 \r\nL 38.28125 72.90625 \r\nL 38.28125 8.296875 \r\nL 54.390625 8.296875 \r\nL 54.390625 0 \r\nL 12.40625 0 \r\nz\r\n\" id=\"DejaVuSans-49\"/>\r\n        <path d=\"M 31.78125 66.40625 \r\nQ 24.171875 66.40625 20.328125 58.90625 \r\nQ 16.5 51.421875 16.5 36.375 \r\nQ 16.5 21.390625 20.328125 13.890625 \r\nQ 24.171875 6.390625 31.78125 6.390625 \r\nQ 39.453125 6.390625 43.28125 13.890625 \r\nQ 47.125 21.390625 47.125 36.375 \r\nQ 47.125 51.421875 43.28125 58.90625 \r\nQ 39.453125 66.40625 31.78125 66.40625 \r\nz\r\nM 31.78125 74.21875 \r\nQ 44.046875 74.21875 50.515625 64.515625 \r\nQ 56.984375 54.828125 56.984375 36.375 \r\nQ 56.984375 17.96875 50.515625 8.265625 \r\nQ 44.046875 -1.421875 31.78125 -1.421875 \r\nQ 19.53125 -1.421875 13.0625 8.265625 \r\nQ 6.59375 17.96875 6.59375 36.375 \r\nQ 6.59375 54.828125 13.0625 64.515625 \r\nQ 19.53125 74.21875 31.78125 74.21875 \r\nz\r\n\" id=\"DejaVuSans-48\"/>\r\n       </defs>\r\n       <use xlink:href=\"#DejaVuSans-49\"/>\r\n       <use x=\"63.623047\" xlink:href=\"#DejaVuSans-48\"/>\r\n      </g>\r\n     </g>\r\n    </g>\r\n    <g id=\"xtick_6\">\r\n     <g id=\"line2d_6\">\r\n      <g>\r\n       <use style=\"stroke:#000000;stroke-width:0.8;\" x=\"375.224513\" xlink:href=\"#m331ea7658b\" y=\"224.64\"/>\r\n      </g>\r\n     </g>\r\n     <g id=\"text_6\">\r\n      <!-- 12 -->\r\n      <g transform=\"translate(368.862013 239.238437)scale(0.1 -0.1)\">\r\n       <use xlink:href=\"#DejaVuSans-49\"/>\r\n       <use x=\"63.623047\" xlink:href=\"#DejaVuSans-50\"/>\r\n      </g>\r\n     </g>\r\n    </g>\r\n    <g id=\"text_7\">\r\n     <!-- ACC X -->\r\n     <g transform=\"translate(204.23125 252.916562)scale(0.1 -0.1)\">\r\n      <defs>\r\n       <path d=\"M 34.1875 63.1875 \r\nL 20.796875 26.90625 \r\nL 47.609375 26.90625 \r\nz\r\nM 28.609375 72.90625 \r\nL 39.796875 72.90625 \r\nL 67.578125 0 \r\nL 57.328125 0 \r\nL 50.6875 18.703125 \r\nL 17.828125 18.703125 \r\nL 11.1875 0 \r\nL 0.78125 0 \r\nz\r\n\" id=\"DejaVuSans-65\"/>\r\n       <path d=\"M 64.40625 67.28125 \r\nL 64.40625 56.890625 \r\nQ 59.421875 61.53125 53.78125 63.8125 \r\nQ 48.140625 66.109375 41.796875 66.109375 \r\nQ 29.296875 66.109375 22.65625 58.46875 \r\nQ 16.015625 50.828125 16.015625 36.375 \r\nQ 16.015625 21.96875 22.65625 14.328125 \r\nQ 29.296875 6.6875 41.796875 6.6875 \r\nQ 48.140625 6.6875 53.78125 8.984375 \r\nQ 59.421875 11.28125 64.40625 15.921875 \r\nL 64.40625 5.609375 \r\nQ 59.234375 2.09375 53.4375 0.328125 \r\nQ 47.65625 -1.421875 41.21875 -1.421875 \r\nQ 24.65625 -1.421875 15.125 8.703125 \r\nQ 5.609375 18.84375 5.609375 36.375 \r\nQ 5.609375 53.953125 15.125 64.078125 \r\nQ 24.65625 74.21875 41.21875 74.21875 \r\nQ 47.75 74.21875 53.53125 72.484375 \r\nQ 59.328125 70.75 64.40625 67.28125 \r\nz\r\n\" id=\"DejaVuSans-67\"/>\r\n       <path id=\"DejaVuSans-32\"/>\r\n       <path d=\"M 6.296875 72.90625 \r\nL 16.890625 72.90625 \r\nL 35.015625 45.796875 \r\nL 53.21875 72.90625 \r\nL 63.8125 72.90625 \r\nL 40.375 37.890625 \r\nL 65.375 0 \r\nL 54.78125 0 \r\nL 34.28125 31 \r\nL 13.625 0 \r\nL 2.984375 0 \r\nL 29 38.921875 \r\nz\r\n\" id=\"DejaVuSans-88\"/>\r\n      </defs>\r\n      <use xlink:href=\"#DejaVuSans-65\"/>\r\n      <use x=\"66.658203\" xlink:href=\"#DejaVuSans-67\"/>\r\n      <use x=\"136.482422\" xlink:href=\"#DejaVuSans-67\"/>\r\n      <use x=\"206.306641\" xlink:href=\"#DejaVuSans-32\"/>\r\n      <use x=\"238.09375\" xlink:href=\"#DejaVuSans-88\"/>\r\n     </g>\r\n    </g>\r\n   </g>\r\n   <g id=\"matplotlib.axis_2\">\r\n    <g id=\"ytick_1\">\r\n     <g id=\"line2d_7\">\r\n      <defs>\r\n       <path d=\"M 0 0 \r\nL -3.5 0 \r\n\" id=\"mde5be2c070\" style=\"stroke:#000000;stroke-width:0.8;\"/>\r\n      </defs>\r\n      <g>\r\n       <use style=\"stroke:#000000;stroke-width:0.8;\" x=\"52.160938\" xlink:href=\"#mde5be2c070\" y=\"200.560644\"/>\r\n      </g>\r\n     </g>\r\n     <g id=\"text_8\">\r\n      <!-- −7.5 -->\r\n      <g transform=\"translate(20.878125 204.359863)scale(0.1 -0.1)\">\r\n       <defs>\r\n        <path d=\"M 10.59375 35.5 \r\nL 73.1875 35.5 \r\nL 73.1875 27.203125 \r\nL 10.59375 27.203125 \r\nz\r\n\" id=\"DejaVuSans-8722\"/>\r\n        <path d=\"M 8.203125 72.90625 \r\nL 55.078125 72.90625 \r\nL 55.078125 68.703125 \r\nL 28.609375 0 \r\nL 18.3125 0 \r\nL 43.21875 64.59375 \r\nL 8.203125 64.59375 \r\nz\r\n\" id=\"DejaVuSans-55\"/>\r\n        <path d=\"M 10.6875 12.40625 \r\nL 21 12.40625 \r\nL 21 0 \r\nL 10.6875 0 \r\nz\r\n\" id=\"DejaVuSans-46\"/>\r\n        <path d=\"M 10.796875 72.90625 \r\nL 49.515625 72.90625 \r\nL 49.515625 64.59375 \r\nL 19.828125 64.59375 \r\nL 19.828125 46.734375 \r\nQ 21.96875 47.46875 24.109375 47.828125 \r\nQ 26.265625 48.1875 28.421875 48.1875 \r\nQ 40.625 48.1875 47.75 41.5 \r\nQ 54.890625 34.8125 54.890625 23.390625 \r\nQ 54.890625 11.625 47.5625 5.09375 \r\nQ 40.234375 -1.421875 26.90625 -1.421875 \r\nQ 22.3125 -1.421875 17.546875 -0.640625 \r\nQ 12.796875 0.140625 7.71875 1.703125 \r\nL 7.71875 11.625 \r\nQ 12.109375 9.234375 16.796875 8.0625 \r\nQ 21.484375 6.890625 26.703125 6.890625 \r\nQ 35.15625 6.890625 40.078125 11.328125 \r\nQ 45.015625 15.765625 45.015625 23.390625 \r\nQ 45.015625 31 40.078125 35.4375 \r\nQ 35.15625 39.890625 26.703125 39.890625 \r\nQ 22.75 39.890625 18.8125 39.015625 \r\nQ 14.890625 38.140625 10.796875 36.28125 \r\nz\r\n\" id=\"DejaVuSans-53\"/>\r\n       </defs>\r\n       <use xlink:href=\"#DejaVuSans-8722\"/>\r\n       <use x=\"83.789062\" xlink:href=\"#DejaVuSans-55\"/>\r\n       <use x=\"147.412109\" xlink:href=\"#DejaVuSans-46\"/>\r\n       <use x=\"179.199219\" xlink:href=\"#DejaVuSans-53\"/>\r\n      </g>\r\n     </g>\r\n    </g>\r\n    <g id=\"ytick_2\">\r\n     <g id=\"line2d_8\">\r\n      <g>\r\n       <use style=\"stroke:#000000;stroke-width:0.8;\" x=\"52.160938\" xlink:href=\"#mde5be2c070\" y=\"173.876961\"/>\r\n      </g>\r\n     </g>\r\n     <g id=\"text_9\">\r\n      <!-- −5.0 -->\r\n      <g transform=\"translate(20.878125 177.676179)scale(0.1 -0.1)\">\r\n       <use xlink:href=\"#DejaVuSans-8722\"/>\r\n       <use x=\"83.789062\" xlink:href=\"#DejaVuSans-53\"/>\r\n       <use x=\"147.412109\" xlink:href=\"#DejaVuSans-46\"/>\r\n       <use x=\"179.199219\" xlink:href=\"#DejaVuSans-48\"/>\r\n      </g>\r\n     </g>\r\n    </g>\r\n    <g id=\"ytick_3\">\r\n     <g id=\"line2d_9\">\r\n      <g>\r\n       <use style=\"stroke:#000000;stroke-width:0.8;\" x=\"52.160938\" xlink:href=\"#mde5be2c070\" y=\"147.193277\"/>\r\n      </g>\r\n     </g>\r\n     <g id=\"text_10\">\r\n      <!-- −2.5 -->\r\n      <g transform=\"translate(20.878125 150.992496)scale(0.1 -0.1)\">\r\n       <use xlink:href=\"#DejaVuSans-8722\"/>\r\n       <use x=\"83.789062\" xlink:href=\"#DejaVuSans-50\"/>\r\n       <use x=\"147.412109\" xlink:href=\"#DejaVuSans-46\"/>\r\n       <use x=\"179.199219\" xlink:href=\"#DejaVuSans-53\"/>\r\n      </g>\r\n     </g>\r\n    </g>\r\n    <g id=\"ytick_4\">\r\n     <g id=\"line2d_10\">\r\n      <g>\r\n       <use style=\"stroke:#000000;stroke-width:0.8;\" x=\"52.160938\" xlink:href=\"#mde5be2c070\" y=\"120.509594\"/>\r\n      </g>\r\n     </g>\r\n     <g id=\"text_11\">\r\n      <!-- 0.0 -->\r\n      <g transform=\"translate(29.257812 124.308812)scale(0.1 -0.1)\">\r\n       <use xlink:href=\"#DejaVuSans-48\"/>\r\n       <use x=\"63.623047\" xlink:href=\"#DejaVuSans-46\"/>\r\n       <use x=\"95.410156\" xlink:href=\"#DejaVuSans-48\"/>\r\n      </g>\r\n     </g>\r\n    </g>\r\n    <g id=\"ytick_5\">\r\n     <g id=\"line2d_11\">\r\n      <g>\r\n       <use style=\"stroke:#000000;stroke-width:0.8;\" x=\"52.160938\" xlink:href=\"#mde5be2c070\" y=\"93.82591\"/>\r\n      </g>\r\n     </g>\r\n     <g id=\"text_12\">\r\n      <!-- 2.5 -->\r\n      <g transform=\"translate(29.257812 97.625129)scale(0.1 -0.1)\">\r\n       <use xlink:href=\"#DejaVuSans-50\"/>\r\n       <use x=\"63.623047\" xlink:href=\"#DejaVuSans-46\"/>\r\n       <use x=\"95.410156\" xlink:href=\"#DejaVuSans-53\"/>\r\n      </g>\r\n     </g>\r\n    </g>\r\n    <g id=\"ytick_6\">\r\n     <g id=\"line2d_12\">\r\n      <g>\r\n       <use style=\"stroke:#000000;stroke-width:0.8;\" x=\"52.160938\" xlink:href=\"#mde5be2c070\" y=\"67.142227\"/>\r\n      </g>\r\n     </g>\r\n     <g id=\"text_13\">\r\n      <!-- 5.0 -->\r\n      <g transform=\"translate(29.257812 70.941445)scale(0.1 -0.1)\">\r\n       <use xlink:href=\"#DejaVuSans-53\"/>\r\n       <use x=\"63.623047\" xlink:href=\"#DejaVuSans-46\"/>\r\n       <use x=\"95.410156\" xlink:href=\"#DejaVuSans-48\"/>\r\n      </g>\r\n     </g>\r\n    </g>\r\n    <g id=\"ytick_7\">\r\n     <g id=\"line2d_13\">\r\n      <g>\r\n       <use style=\"stroke:#000000;stroke-width:0.8;\" x=\"52.160938\" xlink:href=\"#mde5be2c070\" y=\"40.458543\"/>\r\n      </g>\r\n     </g>\r\n     <g id=\"text_14\">\r\n      <!-- 7.5 -->\r\n      <g transform=\"translate(29.257812 44.257762)scale(0.1 -0.1)\">\r\n       <use xlink:href=\"#DejaVuSans-55\"/>\r\n       <use x=\"63.623047\" xlink:href=\"#DejaVuSans-46\"/>\r\n       <use x=\"95.410156\" xlink:href=\"#DejaVuSans-53\"/>\r\n      </g>\r\n     </g>\r\n    </g>\r\n    <g id=\"ytick_8\">\r\n     <g id=\"line2d_14\">\r\n      <g>\r\n       <use style=\"stroke:#000000;stroke-width:0.8;\" x=\"52.160938\" xlink:href=\"#mde5be2c070\" y=\"13.77486\"/>\r\n      </g>\r\n     </g>\r\n     <g id=\"text_15\">\r\n      <!-- 10.0 -->\r\n      <g transform=\"translate(22.895313 17.574078)scale(0.1 -0.1)\">\r\n       <use xlink:href=\"#DejaVuSans-49\"/>\r\n       <use x=\"63.623047\" xlink:href=\"#DejaVuSans-48\"/>\r\n       <use x=\"127.246094\" xlink:href=\"#DejaVuSans-46\"/>\r\n       <use x=\"159.033203\" xlink:href=\"#DejaVuSans-48\"/>\r\n      </g>\r\n     </g>\r\n    </g>\r\n    <g id=\"text_16\">\r\n     <!-- ACC Y -->\r\n     <g transform=\"translate(14.798437 130.878594)rotate(-90)scale(0.1 -0.1)\">\r\n      <defs>\r\n       <path d=\"M -0.203125 72.90625 \r\nL 10.40625 72.90625 \r\nL 30.609375 42.921875 \r\nL 50.6875 72.90625 \r\nL 61.28125 72.90625 \r\nL 35.5 34.71875 \r\nL 35.5 0 \r\nL 25.59375 0 \r\nL 25.59375 34.71875 \r\nz\r\n\" id=\"DejaVuSans-89\"/>\r\n      </defs>\r\n      <use xlink:href=\"#DejaVuSans-65\"/>\r\n      <use x=\"66.658203\" xlink:href=\"#DejaVuSans-67\"/>\r\n      <use x=\"136.482422\" xlink:href=\"#DejaVuSans-67\"/>\r\n      <use x=\"206.306641\" xlink:href=\"#DejaVuSans-32\"/>\r\n      <use x=\"238.09375\" xlink:href=\"#DejaVuSans-89\"/>\r\n     </g>\r\n    </g>\r\n   </g>\r\n   <g id=\"patch_3\">\r\n    <path d=\"M 52.160938 224.64 \r\nL 52.160938 7.2 \r\n\" style=\"fill:none;stroke:#000000;stroke-linecap:square;stroke-linejoin:miter;stroke-width:0.8;\"/>\r\n   </g>\r\n   <g id=\"patch_4\">\r\n    <path d=\"M 386.960938 224.64 \r\nL 386.960938 7.2 \r\n\" style=\"fill:none;stroke:#000000;stroke-linecap:square;stroke-linejoin:miter;stroke-width:0.8;\"/>\r\n   </g>\r\n   <g id=\"patch_5\">\r\n    <path d=\"M 52.160938 224.64 \r\nL 386.960938 224.64 \r\n\" style=\"fill:none;stroke:#000000;stroke-linecap:square;stroke-linejoin:miter;stroke-width:0.8;\"/>\r\n   </g>\r\n   <g id=\"patch_6\">\r\n    <path d=\"M 52.160938 7.2 \r\nL 386.960938 7.2 \r\n\" style=\"fill:none;stroke:#000000;stroke-linecap:square;stroke-linejoin:miter;stroke-width:0.8;\"/>\r\n   </g>\r\n   <g id=\"legend_1\">\r\n    <g id=\"patch_7\">\r\n     <path d=\"M 319.626563 29.878125 \r\nL 379.960938 29.878125 \r\nQ 381.960938 29.878125 381.960938 27.878125 \r\nL 381.960938 14.2 \r\nQ 381.960938 12.2 379.960938 12.2 \r\nL 319.626563 12.2 \r\nQ 317.626563 12.2 317.626563 14.2 \r\nL 317.626563 27.878125 \r\nQ 317.626563 29.878125 319.626563 29.878125 \r\nz\r\n\" style=\"fill:#ffffff;opacity:0.8;stroke:#cccccc;stroke-linejoin:miter;\"/>\r\n    </g>\r\n    <g id=\"PathCollection_2\">\r\n     <g>\r\n      <use style=\"fill:#0000ff;stroke:#0000ff;\" x=\"331.626563\" xlink:href=\"#mac5dec5a42\" y=\"21.173437\"/>\r\n     </g>\r\n    </g>\r\n    <g id=\"text_17\">\r\n     <!-- Down -->\r\n     <g transform=\"translate(349.626563 23.798437)scale(0.1 -0.1)\">\r\n      <defs>\r\n       <path d=\"M 19.671875 64.796875 \r\nL 19.671875 8.109375 \r\nL 31.59375 8.109375 \r\nQ 46.6875 8.109375 53.6875 14.9375 \r\nQ 60.6875 21.78125 60.6875 36.53125 \r\nQ 60.6875 51.171875 53.6875 57.984375 \r\nQ 46.6875 64.796875 31.59375 64.796875 \r\nz\r\nM 9.8125 72.90625 \r\nL 30.078125 72.90625 \r\nQ 51.265625 72.90625 61.171875 64.09375 \r\nQ 71.09375 55.28125 71.09375 36.53125 \r\nQ 71.09375 17.671875 61.125 8.828125 \r\nQ 51.171875 0 30.078125 0 \r\nL 9.8125 0 \r\nz\r\n\" id=\"DejaVuSans-68\"/>\r\n       <path d=\"M 30.609375 48.390625 \r\nQ 23.390625 48.390625 19.1875 42.75 \r\nQ 14.984375 37.109375 14.984375 27.296875 \r\nQ 14.984375 17.484375 19.15625 11.84375 \r\nQ 23.34375 6.203125 30.609375 6.203125 \r\nQ 37.796875 6.203125 41.984375 11.859375 \r\nQ 46.1875 17.53125 46.1875 27.296875 \r\nQ 46.1875 37.015625 41.984375 42.703125 \r\nQ 37.796875 48.390625 30.609375 48.390625 \r\nz\r\nM 30.609375 56 \r\nQ 42.328125 56 49.015625 48.375 \r\nQ 55.71875 40.765625 55.71875 27.296875 \r\nQ 55.71875 13.875 49.015625 6.21875 \r\nQ 42.328125 -1.421875 30.609375 -1.421875 \r\nQ 18.84375 -1.421875 12.171875 6.21875 \r\nQ 5.515625 13.875 5.515625 27.296875 \r\nQ 5.515625 40.765625 12.171875 48.375 \r\nQ 18.84375 56 30.609375 56 \r\nz\r\n\" id=\"DejaVuSans-111\"/>\r\n       <path d=\"M 4.203125 54.6875 \r\nL 13.1875 54.6875 \r\nL 24.421875 12.015625 \r\nL 35.59375 54.6875 \r\nL 46.1875 54.6875 \r\nL 57.421875 12.015625 \r\nL 68.609375 54.6875 \r\nL 77.59375 54.6875 \r\nL 63.28125 0 \r\nL 52.6875 0 \r\nL 40.921875 44.828125 \r\nL 29.109375 0 \r\nL 18.5 0 \r\nz\r\n\" id=\"DejaVuSans-119\"/>\r\n       <path d=\"M 54.890625 33.015625 \r\nL 54.890625 0 \r\nL 45.90625 0 \r\nL 45.90625 32.71875 \r\nQ 45.90625 40.484375 42.875 44.328125 \r\nQ 39.84375 48.1875 33.796875 48.1875 \r\nQ 26.515625 48.1875 22.3125 43.546875 \r\nQ 18.109375 38.921875 18.109375 30.90625 \r\nL 18.109375 0 \r\nL 9.078125 0 \r\nL 9.078125 54.6875 \r\nL 18.109375 54.6875 \r\nL 18.109375 46.1875 \r\nQ 21.34375 51.125 25.703125 53.5625 \r\nQ 30.078125 56 35.796875 56 \r\nQ 45.21875 56 50.046875 50.171875 \r\nQ 54.890625 44.34375 54.890625 33.015625 \r\nz\r\n\" id=\"DejaVuSans-110\"/>\r\n      </defs>\r\n      <use xlink:href=\"#DejaVuSans-68\"/>\r\n      <use x=\"77.001953\" xlink:href=\"#DejaVuSans-111\"/>\r\n      <use x=\"138.183594\" xlink:href=\"#DejaVuSans-119\"/>\r\n      <use x=\"219.970703\" xlink:href=\"#DejaVuSans-110\"/>\r\n     </g>\r\n    </g>\r\n   </g>\r\n  </g>\r\n </g>\r\n <defs>\r\n  <clipPath id=\"pb536822708\">\r\n   <rect height=\"217.44\" width=\"334.8\" x=\"52.160938\" y=\"7.2\"/>\r\n  </clipPath>\r\n </defs>\r\n</svg>\r\n",
      "image/png": "[encoded data removed]"
     },
     "metadata": {
      "needs_background": "light"
     }
    }
   ],
   "source": [
    "Down.plot(kind='scatter', x='ACC X', y='ACC Y', color= 'blue', label='Down')"
   ]
  },
  {
   "cell_type": "code",
   "execution_count": 15,
   "metadata": {},
   "outputs": [
    {
     "output_type": "execute_result",
     "data": {
      "text/plain": [
       "<AxesSubplot:xlabel='ACC X', ylabel='ACC Y'>"
      ]
     },
     "metadata": {},
     "execution_count": 15
    },
    {
     "output_type": "display_data",
     "data": {
      "text/plain": "<Figure size 432x288 with 1 Axes>",
      "image/svg+xml": "<?xml version=\"1.0\" encoding=\"utf-8\" standalone=\"no\"?>\r\n<!DOCTYPE svg PUBLIC \"-//W3C//DTD SVG 1.1//EN\"\r\n  \"http://www.w3.org/Graphics/SVG/1.1/DTD/svg11.dtd\">\r\n<!-- Created with matplotlib (https://matplotlib.org/) -->\r\n<svg height=\"265.631207pt\" version=\"1.1\" viewBox=\"0 0 394.160937 265.631207\" width=\"394.160937pt\" xmlns=\"http://www.w3.org/2000/svg\" xmlns:xlink=\"http://www.w3.org/1999/xlink\">\r\n <metadata>\r\n  <rdf:RDF xmlns:cc=\"http://creativecommons.org/ns#\" xmlns:dc=\"http://purl.org/dc/elements/1.1/\" xmlns:rdf=\"http://www.w3.org/1999/02/22-rdf-syntax-ns#\">\r\n   <cc:Work>\r\n    <dc:type rdf:resource=\"http://purl.org/dc/dcmitype/StillImage\"/>\r\n    <dc:date>2021-05-25T17:19:43.841404</dc:date>\r\n    <dc:format>image/svg+xml</dc:format>\r\n    <dc:creator>\r\n     <cc:Agent>\r\n      <dc:title>Matplotlib v3.3.4, https://matplotlib.org/</dc:title>\r\n     </cc:Agent>\r\n    </dc:creator>\r\n   </cc:Work>\r\n  </rdf:RDF>\r\n </metadata>\r\n <defs>\r\n  <style type=\"text/css\">*{stroke-linecap:butt;stroke-linejoin:round;}</style>\r\n </defs>\r\n <g id=\"figure_1\">\r\n  <g id=\"patch_1\">\r\n   <path d=\"M 0 265.631207 \r\nL 394.160937 265.631207 \r\nL 394.160937 0 \r\nL 0 0 \r\nz\r\n\" style=\"fill:none;\"/>\r\n  </g>\r\n  <g id=\"axes_1\">\r\n   <g id=\"patch_2\">\r\n    <path d=\"M 52.160938 228.074957 \r\nL 386.960938 228.074957 \r\nL 386.960938 10.634957 \r\nL 52.160938 10.634957 \r\nz\r\n\" style=\"fill:#ffffff;\"/>\r\n   </g>\r\n   <g id=\"PathCollection_1\">\r\n    <defs>\r\n     <path d=\"M 0 2.236068 \r\nC 0.593012 2.236068 1.161816 2.000462 1.581139 1.581139 \r\nC 2.000462 1.161816 2.236068 0.593012 2.236068 0 \r\nC 2.236068 -0.593012 2.000462 -1.161816 1.581139 -1.581139 \r\nC 1.161816 -2.000462 0.593012 -2.236068 0 -2.236068 \r\nC -0.593012 -2.236068 -1.161816 -2.000462 -1.581139 -1.581139 \r\nC -2.000462 -1.161816 -2.236068 -0.593012 -2.236068 0 \r\nC -2.236068 0.593012 -2.000462 1.161816 -1.581139 1.581139 \r\nC -1.161816 2.000462 -0.593012 2.236068 0 2.236068 \r\nz\r\n\" id=\"mfba5f0aa83\" style=\"stroke:#0000ff;\"/>\r\n    </defs>\r\n    <g clip-path=\"url(#p2b891dadd9)\">\r\n     <use style=\"fill:#0000ff;stroke:#0000ff;\" x=\"163.402479\" xlink:href=\"#mfba5f0aa83\" y=\"44.122757\"/>\r\n     <use style=\"fill:#0000ff;stroke:#0000ff;\" x=\"178.175304\" xlink:href=\"#mfba5f0aa83\" y=\"57.236181\"/>\r\n     <use style=\"fill:#0000ff;stroke:#0000ff;\" x=\"356.318189\" xlink:href=\"#mfba5f0aa83\" y=\"109.301332\"/>\r\n     <use style=\"fill:#0000ff;stroke:#0000ff;\" x=\"312.868705\" xlink:href=\"#mfba5f0aa83\" y=\"184.5821\"/>\r\n     <use style=\"fill:#0000ff;stroke:#0000ff;\" x=\"259.860334\" xlink:href=\"#mfba5f0aa83\" y=\"210.22613\"/>\r\n     <use style=\"fill:#0000ff;stroke:#0000ff;\" x=\"251.170437\" xlink:href=\"#mfba5f0aa83\" y=\"208.380537\"/>\r\n     <use style=\"fill:#0000ff;stroke:#0000ff;\" x=\"259.425839\" xlink:href=\"#mfba5f0aa83\" y=\"208.477673\"/>\r\n     <use style=\"fill:#0000ff;stroke:#0000ff;\" x=\"143.850211\" xlink:href=\"#mfba5f0aa83\" y=\"38.294568\"/>\r\n     <use style=\"fill:#0000ff;stroke:#0000ff;\" x=\"147.32617\" xlink:href=\"#mfba5f0aa83\" y=\"38.780251\"/>\r\n     <use style=\"fill:#0000ff;stroke:#0000ff;\" x=\"207.286458\" xlink:href=\"#mfba5f0aa83\" y=\"53.447858\"/>\r\n     <use style=\"fill:#0000ff;stroke:#0000ff;\" x=\"307.003024\" xlink:href=\"#mfba5f0aa83\" y=\"183.805008\"/>\r\n     <use style=\"fill:#0000ff;stroke:#0000ff;\" x=\"269.636468\" xlink:href=\"#mfba5f0aa83\" y=\"202.649485\"/>\r\n     <use style=\"fill:#0000ff;stroke:#0000ff;\" x=\"246.608241\" xlink:href=\"#mfba5f0aa83\" y=\"208.769082\"/>\r\n     <use style=\"fill:#0000ff;stroke:#0000ff;\" x=\"248.128973\" xlink:href=\"#mfba5f0aa83\" y=\"209.546174\"/>\r\n     <use style=\"fill:#0000ff;stroke:#0000ff;\" x=\"325.03456\" xlink:href=\"#mfba5f0aa83\" y=\"207.312035\"/>\r\n     <use style=\"fill:#0000ff;stroke:#0000ff;\" x=\"153.626345\" xlink:href=\"#mfba5f0aa83\" y=\"38.294568\"/>\r\n     <use style=\"fill:#0000ff;stroke:#0000ff;\" x=\"184.909974\" xlink:href=\"#mfba5f0aa83\" y=\"46.065486\"/>\r\n     <use style=\"fill:#0000ff;stroke:#0000ff;\" x=\"276.588385\" xlink:href=\"#mfba5f0aa83\" y=\"76.760613\"/>\r\n     <use style=\"fill:#0000ff;stroke:#0000ff;\" x=\"337.417663\" xlink:href=\"#mfba5f0aa83\" y=\"129.602855\"/>\r\n     <use style=\"fill:#0000ff;stroke:#0000ff;\" x=\"296.792396\" xlink:href=\"#mfba5f0aa83\" y=\"187.981877\"/>\r\n     <use style=\"fill:#0000ff;stroke:#0000ff;\" x=\"266.160509\" xlink:href=\"#mfba5f0aa83\" y=\"212.557405\"/>\r\n     <use style=\"fill:#0000ff;stroke:#0000ff;\" x=\"247.694478\" xlink:href=\"#mfba5f0aa83\" y=\"208.186264\"/>\r\n     <use style=\"fill:#0000ff;stroke:#0000ff;\" x=\"257.68786\" xlink:href=\"#mfba5f0aa83\" y=\"206.340671\"/>\r\n     <use style=\"fill:#0000ff;stroke:#0000ff;\" x=\"371.742756\" xlink:href=\"#mfba5f0aa83\" y=\"164.571986\"/>\r\n     <use style=\"fill:#0000ff;stroke:#0000ff;\" x=\"180.565025\" xlink:href=\"#mfba5f0aa83\" y=\"40.820117\"/>\r\n     <use style=\"fill:#0000ff;stroke:#0000ff;\" x=\"180.130531\" xlink:href=\"#mfba5f0aa83\" y=\"41.694345\"/>\r\n     <use style=\"fill:#0000ff;stroke:#0000ff;\" x=\"220.538551\" xlink:href=\"#mfba5f0aa83\" y=\"46.745442\"/>\r\n     <use style=\"fill:#0000ff;stroke:#0000ff;\" x=\"267.029499\" xlink:href=\"#mfba5f0aa83\" y=\"72.97229\"/>\r\n     <use style=\"fill:#0000ff;stroke:#0000ff;\" x=\"332.203725\" xlink:href=\"#mfba5f0aa83\" y=\"128.63149\"/>\r\n     <use style=\"fill:#0000ff;stroke:#0000ff;\" x=\"298.09588\" xlink:href=\"#mfba5f0aa83\" y=\"180.502368\"/>\r\n     <use style=\"fill:#0000ff;stroke:#0000ff;\" x=\"231.183675\" xlink:href=\"#mfba5f0aa83\" y=\"215.18009\"/>\r\n     <use style=\"fill:#0000ff;stroke:#0000ff;\" x=\"251.170437\" xlink:href=\"#mfba5f0aa83\" y=\"218.191321\"/>\r\n     <use style=\"fill:#0000ff;stroke:#0000ff;\" x=\"152.974603\" xlink:href=\"#mfba5f0aa83\" y=\"38.488841\"/>\r\n     <use style=\"fill:#0000ff;stroke:#0000ff;\" x=\"155.364325\" xlink:href=\"#mfba5f0aa83\" y=\"38.585978\"/>\r\n     <use style=\"fill:#0000ff;stroke:#0000ff;\" x=\"181.434015\" xlink:href=\"#mfba5f0aa83\" y=\"45.191258\"/>\r\n     <use style=\"fill:#0000ff;stroke:#0000ff;\" x=\"251.604932\" xlink:href=\"#mfba5f0aa83\" y=\"62.870097\"/>\r\n     <use style=\"fill:#0000ff;stroke:#0000ff;\" x=\"331.986478\" xlink:href=\"#mfba5f0aa83\" y=\"106.192965\"/>\r\n     <use style=\"fill:#0000ff;stroke:#0000ff;\" x=\"320.472364\" xlink:href=\"#mfba5f0aa83\" y=\"157.189614\"/>\r\n     <use style=\"fill:#0000ff;stroke:#0000ff;\" x=\"276.371138\" xlink:href=\"#mfba5f0aa83\" y=\"189.924606\"/>\r\n     <use style=\"fill:#0000ff;stroke:#0000ff;\" x=\"238.352839\" xlink:href=\"#mfba5f0aa83\" y=\"211.780313\"/>\r\n     <use style=\"fill:#0000ff;stroke:#0000ff;\" x=\"250.301448\" xlink:href=\"#mfba5f0aa83\" y=\"207.506308\"/>\r\n     <use style=\"fill:#0000ff;stroke:#0000ff;\" x=\"261.163819\" xlink:href=\"#mfba5f0aa83\" y=\"210.22613\"/>\r\n     <use style=\"fill:#0000ff;stroke:#0000ff;\" x=\"164.488716\" xlink:href=\"#mfba5f0aa83\" y=\"39.168797\"/>\r\n     <use style=\"fill:#0000ff;stroke:#0000ff;\" x=\"170.137149\" xlink:href=\"#mfba5f0aa83\" y=\"45.774077\"/>\r\n     <use style=\"fill:#0000ff;stroke:#0000ff;\" x=\"250.735942\" xlink:href=\"#mfba5f0aa83\" y=\"54.030677\"/>\r\n     <use style=\"fill:#0000ff;stroke:#0000ff;\" x=\"296.792396\" xlink:href=\"#mfba5f0aa83\" y=\"85.308622\"/>\r\n     <use style=\"fill:#0000ff;stroke:#0000ff;\" x=\"339.37289\" xlink:href=\"#mfba5f0aa83\" y=\"119.889208\"/>\r\n     <use style=\"fill:#0000ff;stroke:#0000ff;\" x=\"323.296581\" xlink:href=\"#mfba5f0aa83\" y=\"178.851048\"/>\r\n     <use style=\"fill:#0000ff;stroke:#0000ff;\" x=\"237.701097\" xlink:href=\"#mfba5f0aa83\" y=\"214.014452\"/>\r\n     <use style=\"fill:#0000ff;stroke:#0000ff;\" x=\"238.787334\" xlink:href=\"#mfba5f0aa83\" y=\"214.014452\"/>\r\n     <use style=\"fill:#0000ff;stroke:#0000ff;\" x=\"355.883694\" xlink:href=\"#mfba5f0aa83\" y=\"192.644428\"/>\r\n    </g>\r\n   </g>\r\n   <g id=\"PathCollection_2\">\r\n    <defs>\r\n     <path d=\"M 0 2.236068 \r\nC 0.593012 2.236068 1.161816 2.000462 1.581139 1.581139 \r\nC 2.000462 1.161816 2.236068 0.593012 2.236068 0 \r\nC 2.236068 -0.593012 2.000462 -1.161816 1.581139 -1.581139 \r\nC 1.161816 -2.000462 0.593012 -2.236068 0 -2.236068 \r\nC -0.593012 -2.236068 -1.161816 -2.000462 -1.581139 -1.581139 \r\nC -2.000462 -1.161816 -2.236068 -0.593012 -2.236068 0 \r\nC -2.236068 0.593012 -2.000462 1.161816 -1.581139 1.581139 \r\nC -1.161816 2.000462 -0.593012 2.236068 0 2.236068 \r\nz\r\n\" id=\"me4fac1439d\" style=\"stroke:#ff0000;\"/>\r\n    </defs>\r\n    <g clip-path=\"url(#p2b891dadd9)\">\r\n     <use style=\"fill:#ff0000;stroke:#ff0000;\" x=\"93.014315\" xlink:href=\"#me4fac1439d\" y=\"38.974524\"/>\r\n     <use style=\"fill:#ff0000;stroke:#ff0000;\" x=\"93.666057\" xlink:href=\"#me4fac1439d\" y=\"33.729154\"/>\r\n     <use style=\"fill:#ff0000;stroke:#ff0000;\" x=\"114.739057\" xlink:href=\"#me4fac1439d\" y=\"44.122757\"/>\r\n     <use style=\"fill:#ff0000;stroke:#ff0000;\" x=\"94.535047\" xlink:href=\"#me4fac1439d\" y=\"38.780251\"/>\r\n     <use style=\"fill:#ff0000;stroke:#ff0000;\" x=\"82.803686\" xlink:href=\"#me4fac1439d\" y=\"43.345665\"/>\r\n     <use style=\"fill:#ff0000;stroke:#ff0000;\" x=\"86.062397\" xlink:href=\"#me4fac1439d\" y=\"41.597208\"/>\r\n     <use style=\"fill:#ff0000;stroke:#ff0000;\" x=\"109.525119\" xlink:href=\"#me4fac1439d\" y=\"65.395645\"/>\r\n     <use style=\"fill:#ff0000;stroke:#ff0000;\" x=\"84.97616\" xlink:href=\"#me4fac1439d\" y=\"40.140161\"/>\r\n     <use style=\"fill:#ff0000;stroke:#ff0000;\" x=\"85.193408\" xlink:href=\"#me4fac1439d\" y=\"37.42034\"/>\r\n     <use style=\"fill:#ff0000;stroke:#ff0000;\" x=\"88.886614\" xlink:href=\"#me4fac1439d\" y=\"44.608439\"/>\r\n     <use style=\"fill:#ff0000;stroke:#ff0000;\" x=\"94.752294\" xlink:href=\"#me4fac1439d\" y=\"40.140161\"/>\r\n     <use style=\"fill:#ff0000;stroke:#ff0000;\" x=\"69.768841\" xlink:href=\"#me4fac1439d\" y=\"45.385531\"/>\r\n     <use style=\"fill:#ff0000;stroke:#ff0000;\" x=\"79.327727\" xlink:href=\"#me4fac1439d\" y=\"42.277164\"/>\r\n     <use style=\"fill:#ff0000;stroke:#ff0000;\" x=\"84.107171\" xlink:href=\"#me4fac1439d\" y=\"40.625844\"/>\r\n     <use style=\"fill:#ff0000;stroke:#ff0000;\" x=\"119.084005\" xlink:href=\"#me4fac1439d\" y=\"55.973407\"/>\r\n     <use style=\"fill:#ff0000;stroke:#ff0000;\" x=\"84.107171\" xlink:href=\"#me4fac1439d\" y=\"39.36307\"/>\r\n     <use style=\"fill:#ff0000;stroke:#ff0000;\" x=\"87.365882\" xlink:href=\"#me4fac1439d\" y=\"36.060429\"/>\r\n     <use style=\"fill:#ff0000;stroke:#ff0000;\" x=\"88.669367\" xlink:href=\"#me4fac1439d\" y=\"41.01439\"/>\r\n     <use style=\"fill:#ff0000;stroke:#ff0000;\" x=\"89.972851\" xlink:href=\"#me4fac1439d\" y=\"43.345665\"/>\r\n     <use style=\"fill:#ff0000;stroke:#ff0000;\" x=\"94.752294\" xlink:href=\"#me4fac1439d\" y=\"43.928484\"/>\r\n     <use style=\"fill:#ff0000;stroke:#ff0000;\" x=\"106.04916\" xlink:href=\"#me4fac1439d\" y=\"40.917253\"/>\r\n     <use style=\"fill:#ff0000;stroke:#ff0000;\" x=\"86.062397\" xlink:href=\"#me4fac1439d\" y=\"44.996985\"/>\r\n     <use style=\"fill:#ff0000;stroke:#ff0000;\" x=\"87.365882\" xlink:href=\"#me4fac1439d\" y=\"74.720747\"/>\r\n     <use style=\"fill:#ff0000;stroke:#ff0000;\" x=\"86.71414\" xlink:href=\"#me4fac1439d\" y=\"39.557342\"/>\r\n     <use style=\"fill:#ff0000;stroke:#ff0000;\" x=\"94.535047\" xlink:href=\"#me4fac1439d\" y=\"38.391705\"/>\r\n     <use style=\"fill:#ff0000;stroke:#ff0000;\" x=\"98.879995\" xlink:href=\"#me4fac1439d\" y=\"38.100295\"/>\r\n     <use style=\"fill:#ff0000;stroke:#ff0000;\" x=\"87.800377\" xlink:href=\"#me4fac1439d\" y=\"40.917253\"/>\r\n     <use style=\"fill:#ff0000;stroke:#ff0000;\" x=\"86.71414\" xlink:href=\"#me4fac1439d\" y=\"39.557342\"/>\r\n     <use style=\"fill:#ff0000;stroke:#ff0000;\" x=\"91.71083\" xlink:href=\"#me4fac1439d\" y=\"41.111526\"/>\r\n     <use style=\"fill:#ff0000;stroke:#ff0000;\" x=\"81.500202\" xlink:href=\"#me4fac1439d\" y=\"41.597208\"/>\r\n     <use style=\"fill:#ff0000;stroke:#ff0000;\" x=\"95.838531\" xlink:href=\"#me4fac1439d\" y=\"58.693228\"/>\r\n     <use style=\"fill:#ff0000;stroke:#ff0000;\" x=\"104.962923\" xlink:href=\"#me4fac1439d\" y=\"20.518593\"/>\r\n     <use style=\"fill:#ff0000;stroke:#ff0000;\" x=\"102.573201\" xlink:href=\"#me4fac1439d\" y=\"32.272107\"/>\r\n     <use style=\"fill:#ff0000;stroke:#ff0000;\" x=\"97.793758\" xlink:href=\"#me4fac1439d\" y=\"40.820117\"/>\r\n     <use style=\"fill:#ff0000;stroke:#ff0000;\" x=\"105.397418\" xlink:href=\"#me4fac1439d\" y=\"41.888618\"/>\r\n     <use style=\"fill:#ff0000;stroke:#ff0000;\" x=\"88.452119\" xlink:href=\"#me4fac1439d\" y=\"44.02562\"/>\r\n     <use style=\"fill:#ff0000;stroke:#ff0000;\" x=\"69.986088\" xlink:href=\"#me4fac1439d\" y=\"48.591035\"/>\r\n     <use style=\"fill:#ff0000;stroke:#ff0000;\" x=\"67.379119\" xlink:href=\"#me4fac1439d\" y=\"52.087948\"/>\r\n     <use style=\"fill:#ff0000;stroke:#ff0000;\" x=\"89.755604\" xlink:href=\"#me4fac1439d\" y=\"43.442802\"/>\r\n     <use style=\"fill:#ff0000;stroke:#ff0000;\" x=\"98.228253\" xlink:href=\"#me4fac1439d\" y=\"75.012156\"/>\r\n    </g>\r\n   </g>\r\n   <g id=\"matplotlib.axis_1\">\r\n    <g id=\"xtick_1\">\r\n     <g id=\"line2d_1\">\r\n      <defs>\r\n       <path d=\"M 0 0 \r\nL 0 3.5 \r\n\" id=\"m3dc23efebd\" style=\"stroke:#000000;stroke-width:0.8;\"/>\r\n      </defs>\r\n      <g>\r\n       <use style=\"stroke:#000000;stroke-width:0.8;\" x=\"70.203336\" xlink:href=\"#m3dc23efebd\" y=\"228.074957\"/>\r\n      </g>\r\n     </g>\r\n     <g id=\"text_1\">\r\n      <!-- −2 -->\r\n      <g transform=\"translate(62.832242 242.673394)scale(0.1 -0.1)\">\r\n       <defs>\r\n        <path d=\"M 10.59375 35.5 \r\nL 73.1875 35.5 \r\nL 73.1875 27.203125 \r\nL 10.59375 27.203125 \r\nz\r\n\" id=\"DejaVuSans-8722\"/>\r\n        <path d=\"M 19.1875 8.296875 \r\nL 53.609375 8.296875 \r\nL 53.609375 0 \r\nL 7.328125 0 \r\nL 7.328125 8.296875 \r\nQ 12.9375 14.109375 22.625 23.890625 \r\nQ 32.328125 33.6875 34.8125 36.53125 \r\nQ 39.546875 41.84375 41.421875 45.53125 \r\nQ 43.3125 49.21875 43.3125 52.78125 \r\nQ 43.3125 58.59375 39.234375 62.25 \r\nQ 35.15625 65.921875 28.609375 65.921875 \r\nQ 23.96875 65.921875 18.8125 64.3125 \r\nQ 13.671875 62.703125 7.8125 59.421875 \r\nL 7.8125 69.390625 \r\nQ 13.765625 71.78125 18.9375 73 \r\nQ 24.125 74.21875 28.421875 74.21875 \r\nQ 39.75 74.21875 46.484375 68.546875 \r\nQ 53.21875 62.890625 53.21875 53.421875 \r\nQ 53.21875 48.921875 51.53125 44.890625 \r\nQ 49.859375 40.875 45.40625 35.40625 \r\nQ 44.1875 33.984375 37.640625 27.21875 \r\nQ 31.109375 20.453125 19.1875 8.296875 \r\nz\r\n\" id=\"DejaVuSans-50\"/>\r\n       </defs>\r\n       <use xlink:href=\"#DejaVuSans-8722\"/>\r\n       <use x=\"83.789062\" xlink:href=\"#DejaVuSans-50\"/>\r\n      </g>\r\n     </g>\r\n    </g>\r\n    <g id=\"xtick_2\">\r\n     <g id=\"line2d_2\">\r\n      <g>\r\n       <use style=\"stroke:#000000;stroke-width:0.8;\" x=\"113.65282\" xlink:href=\"#m3dc23efebd\" y=\"228.074957\"/>\r\n      </g>\r\n     </g>\r\n     <g id=\"text_2\">\r\n      <!-- 0 -->\r\n      <g transform=\"translate(110.47157 242.673394)scale(0.1 -0.1)\">\r\n       <defs>\r\n        <path d=\"M 31.78125 66.40625 \r\nQ 24.171875 66.40625 20.328125 58.90625 \r\nQ 16.5 51.421875 16.5 36.375 \r\nQ 16.5 21.390625 20.328125 13.890625 \r\nQ 24.171875 6.390625 31.78125 6.390625 \r\nQ 39.453125 6.390625 43.28125 13.890625 \r\nQ 47.125 21.390625 47.125 36.375 \r\nQ 47.125 51.421875 43.28125 58.90625 \r\nQ 39.453125 66.40625 31.78125 66.40625 \r\nz\r\nM 31.78125 74.21875 \r\nQ 44.046875 74.21875 50.515625 64.515625 \r\nQ 56.984375 54.828125 56.984375 36.375 \r\nQ 56.984375 17.96875 50.515625 8.265625 \r\nQ 44.046875 -1.421875 31.78125 -1.421875 \r\nQ 19.53125 -1.421875 13.0625 8.265625 \r\nQ 6.59375 17.96875 6.59375 36.375 \r\nQ 6.59375 54.828125 13.0625 64.515625 \r\nQ 19.53125 74.21875 31.78125 74.21875 \r\nz\r\n\" id=\"DejaVuSans-48\"/>\r\n       </defs>\r\n       <use xlink:href=\"#DejaVuSans-48\"/>\r\n      </g>\r\n     </g>\r\n    </g>\r\n    <g id=\"xtick_3\">\r\n     <g id=\"line2d_3\">\r\n      <g>\r\n       <use style=\"stroke:#000000;stroke-width:0.8;\" x=\"157.102304\" xlink:href=\"#m3dc23efebd\" y=\"228.074957\"/>\r\n      </g>\r\n     </g>\r\n     <g id=\"text_3\">\r\n      <!-- 2 -->\r\n      <g transform=\"translate(153.921054 242.673394)scale(0.1 -0.1)\">\r\n       <use xlink:href=\"#DejaVuSans-50\"/>\r\n      </g>\r\n     </g>\r\n    </g>\r\n    <g id=\"xtick_4\">\r\n     <g id=\"line2d_4\">\r\n      <g>\r\n       <use style=\"stroke:#000000;stroke-width:0.8;\" x=\"200.551788\" xlink:href=\"#m3dc23efebd\" y=\"228.074957\"/>\r\n      </g>\r\n     </g>\r\n     <g id=\"text_4\">\r\n      <!-- 4 -->\r\n      <g transform=\"translate(197.370538 242.673394)scale(0.1 -0.1)\">\r\n       <defs>\r\n        <path d=\"M 37.796875 64.3125 \r\nL 12.890625 25.390625 \r\nL 37.796875 25.390625 \r\nz\r\nM 35.203125 72.90625 \r\nL 47.609375 72.90625 \r\nL 47.609375 25.390625 \r\nL 58.015625 25.390625 \r\nL 58.015625 17.1875 \r\nL 47.609375 17.1875 \r\nL 47.609375 0 \r\nL 37.796875 0 \r\nL 37.796875 17.1875 \r\nL 4.890625 17.1875 \r\nL 4.890625 26.703125 \r\nz\r\n\" id=\"DejaVuSans-52\"/>\r\n       </defs>\r\n       <use xlink:href=\"#DejaVuSans-52\"/>\r\n      </g>\r\n     </g>\r\n    </g>\r\n    <g id=\"xtick_5\">\r\n     <g id=\"line2d_5\">\r\n      <g>\r\n       <use style=\"stroke:#000000;stroke-width:0.8;\" x=\"244.001272\" xlink:href=\"#m3dc23efebd\" y=\"228.074957\"/>\r\n      </g>\r\n     </g>\r\n     <g id=\"text_5\">\r\n      <!-- 6 -->\r\n      <g transform=\"translate(240.820022 242.673394)scale(0.1 -0.1)\">\r\n       <defs>\r\n        <path d=\"M 33.015625 40.375 \r\nQ 26.375 40.375 22.484375 35.828125 \r\nQ 18.609375 31.296875 18.609375 23.390625 \r\nQ 18.609375 15.53125 22.484375 10.953125 \r\nQ 26.375 6.390625 33.015625 6.390625 \r\nQ 39.65625 6.390625 43.53125 10.953125 \r\nQ 47.40625 15.53125 47.40625 23.390625 \r\nQ 47.40625 31.296875 43.53125 35.828125 \r\nQ 39.65625 40.375 33.015625 40.375 \r\nz\r\nM 52.59375 71.296875 \r\nL 52.59375 62.3125 \r\nQ 48.875 64.0625 45.09375 64.984375 \r\nQ 41.3125 65.921875 37.59375 65.921875 \r\nQ 27.828125 65.921875 22.671875 59.328125 \r\nQ 17.53125 52.734375 16.796875 39.40625 \r\nQ 19.671875 43.65625 24.015625 45.921875 \r\nQ 28.375 48.1875 33.59375 48.1875 \r\nQ 44.578125 48.1875 50.953125 41.515625 \r\nQ 57.328125 34.859375 57.328125 23.390625 \r\nQ 57.328125 12.15625 50.6875 5.359375 \r\nQ 44.046875 -1.421875 33.015625 -1.421875 \r\nQ 20.359375 -1.421875 13.671875 8.265625 \r\nQ 6.984375 17.96875 6.984375 36.375 \r\nQ 6.984375 53.65625 15.1875 63.9375 \r\nQ 23.390625 74.21875 37.203125 74.21875 \r\nQ 40.921875 74.21875 44.703125 73.484375 \r\nQ 48.484375 72.75 52.59375 71.296875 \r\nz\r\n\" id=\"DejaVuSans-54\"/>\r\n       </defs>\r\n       <use xlink:href=\"#DejaVuSans-54\"/>\r\n      </g>\r\n     </g>\r\n    </g>\r\n    <g id=\"xtick_6\">\r\n     <g id=\"line2d_6\">\r\n      <g>\r\n       <use style=\"stroke:#000000;stroke-width:0.8;\" x=\"287.450756\" xlink:href=\"#m3dc23efebd\" y=\"228.074957\"/>\r\n      </g>\r\n     </g>\r\n     <g id=\"text_6\">\r\n      <!-- 8 -->\r\n      <g transform=\"translate(284.269506 242.673394)scale(0.1 -0.1)\">\r\n       <defs>\r\n        <path d=\"M 31.78125 34.625 \r\nQ 24.75 34.625 20.71875 30.859375 \r\nQ 16.703125 27.09375 16.703125 20.515625 \r\nQ 16.703125 13.921875 20.71875 10.15625 \r\nQ 24.75 6.390625 31.78125 6.390625 \r\nQ 38.8125 6.390625 42.859375 10.171875 \r\nQ 46.921875 13.96875 46.921875 20.515625 \r\nQ 46.921875 27.09375 42.890625 30.859375 \r\nQ 38.875 34.625 31.78125 34.625 \r\nz\r\nM 21.921875 38.8125 \r\nQ 15.578125 40.375 12.03125 44.71875 \r\nQ 8.5 49.078125 8.5 55.328125 \r\nQ 8.5 64.0625 14.71875 69.140625 \r\nQ 20.953125 74.21875 31.78125 74.21875 \r\nQ 42.671875 74.21875 48.875 69.140625 \r\nQ 55.078125 64.0625 55.078125 55.328125 \r\nQ 55.078125 49.078125 51.53125 44.71875 \r\nQ 48 40.375 41.703125 38.8125 \r\nQ 48.828125 37.15625 52.796875 32.3125 \r\nQ 56.78125 27.484375 56.78125 20.515625 \r\nQ 56.78125 9.90625 50.3125 4.234375 \r\nQ 43.84375 -1.421875 31.78125 -1.421875 \r\nQ 19.734375 -1.421875 13.25 4.234375 \r\nQ 6.78125 9.90625 6.78125 20.515625 \r\nQ 6.78125 27.484375 10.78125 32.3125 \r\nQ 14.796875 37.15625 21.921875 38.8125 \r\nz\r\nM 18.3125 54.390625 \r\nQ 18.3125 48.734375 21.84375 45.5625 \r\nQ 25.390625 42.390625 31.78125 42.390625 \r\nQ 38.140625 42.390625 41.71875 45.5625 \r\nQ 45.3125 48.734375 45.3125 54.390625 \r\nQ 45.3125 60.0625 41.71875 63.234375 \r\nQ 38.140625 66.40625 31.78125 66.40625 \r\nQ 25.390625 66.40625 21.84375 63.234375 \r\nQ 18.3125 60.0625 18.3125 54.390625 \r\nz\r\n\" id=\"DejaVuSans-56\"/>\r\n       </defs>\r\n       <use xlink:href=\"#DejaVuSans-56\"/>\r\n      </g>\r\n     </g>\r\n    </g>\r\n    <g id=\"xtick_7\">\r\n     <g id=\"line2d_7\">\r\n      <g>\r\n       <use style=\"stroke:#000000;stroke-width:0.8;\" x=\"330.900241\" xlink:href=\"#m3dc23efebd\" y=\"228.074957\"/>\r\n      </g>\r\n     </g>\r\n     <g id=\"text_7\">\r\n      <!-- 10 -->\r\n      <g transform=\"translate(324.537741 242.673394)scale(0.1 -0.1)\">\r\n       <defs>\r\n        <path d=\"M 12.40625 8.296875 \r\nL 28.515625 8.296875 \r\nL 28.515625 63.921875 \r\nL 10.984375 60.40625 \r\nL 10.984375 69.390625 \r\nL 28.421875 72.90625 \r\nL 38.28125 72.90625 \r\nL 38.28125 8.296875 \r\nL 54.390625 8.296875 \r\nL 54.390625 0 \r\nL 12.40625 0 \r\nz\r\n\" id=\"DejaVuSans-49\"/>\r\n       </defs>\r\n       <use xlink:href=\"#DejaVuSans-49\"/>\r\n       <use x=\"63.623047\" xlink:href=\"#DejaVuSans-48\"/>\r\n      </g>\r\n     </g>\r\n    </g>\r\n    <g id=\"xtick_8\">\r\n     <g id=\"line2d_8\">\r\n      <g>\r\n       <use style=\"stroke:#000000;stroke-width:0.8;\" x=\"374.349725\" xlink:href=\"#m3dc23efebd\" y=\"228.074957\"/>\r\n      </g>\r\n     </g>\r\n     <g id=\"text_8\">\r\n      <!-- 12 -->\r\n      <g transform=\"translate(367.987225 242.673394)scale(0.1 -0.1)\">\r\n       <use xlink:href=\"#DejaVuSans-49\"/>\r\n       <use x=\"63.623047\" xlink:href=\"#DejaVuSans-50\"/>\r\n      </g>\r\n     </g>\r\n    </g>\r\n    <g id=\"text_9\">\r\n     <!-- ACC X -->\r\n     <g transform=\"translate(204.23125 256.351519)scale(0.1 -0.1)\">\r\n      <defs>\r\n       <path d=\"M 34.1875 63.1875 \r\nL 20.796875 26.90625 \r\nL 47.609375 26.90625 \r\nz\r\nM 28.609375 72.90625 \r\nL 39.796875 72.90625 \r\nL 67.578125 0 \r\nL 57.328125 0 \r\nL 50.6875 18.703125 \r\nL 17.828125 18.703125 \r\nL 11.1875 0 \r\nL 0.78125 0 \r\nz\r\n\" id=\"DejaVuSans-65\"/>\r\n       <path d=\"M 64.40625 67.28125 \r\nL 64.40625 56.890625 \r\nQ 59.421875 61.53125 53.78125 63.8125 \r\nQ 48.140625 66.109375 41.796875 66.109375 \r\nQ 29.296875 66.109375 22.65625 58.46875 \r\nQ 16.015625 50.828125 16.015625 36.375 \r\nQ 16.015625 21.96875 22.65625 14.328125 \r\nQ 29.296875 6.6875 41.796875 6.6875 \r\nQ 48.140625 6.6875 53.78125 8.984375 \r\nQ 59.421875 11.28125 64.40625 15.921875 \r\nL 64.40625 5.609375 \r\nQ 59.234375 2.09375 53.4375 0.328125 \r\nQ 47.65625 -1.421875 41.21875 -1.421875 \r\nQ 24.65625 -1.421875 15.125 8.703125 \r\nQ 5.609375 18.84375 5.609375 36.375 \r\nQ 5.609375 53.953125 15.125 64.078125 \r\nQ 24.65625 74.21875 41.21875 74.21875 \r\nQ 47.75 74.21875 53.53125 72.484375 \r\nQ 59.328125 70.75 64.40625 67.28125 \r\nz\r\n\" id=\"DejaVuSans-67\"/>\r\n       <path id=\"DejaVuSans-32\"/>\r\n       <path d=\"M 6.296875 72.90625 \r\nL 16.890625 72.90625 \r\nL 35.015625 45.796875 \r\nL 53.21875 72.90625 \r\nL 63.8125 72.90625 \r\nL 40.375 37.890625 \r\nL 65.375 0 \r\nL 54.78125 0 \r\nL 34.28125 31 \r\nL 13.625 0 \r\nL 2.984375 0 \r\nL 29 38.921875 \r\nz\r\n\" id=\"DejaVuSans-88\"/>\r\n      </defs>\r\n      <use xlink:href=\"#DejaVuSans-65\"/>\r\n      <use x=\"66.658203\" xlink:href=\"#DejaVuSans-67\"/>\r\n      <use x=\"136.482422\" xlink:href=\"#DejaVuSans-67\"/>\r\n      <use x=\"206.306641\" xlink:href=\"#DejaVuSans-32\"/>\r\n      <use x=\"238.09375\" xlink:href=\"#DejaVuSans-88\"/>\r\n     </g>\r\n    </g>\r\n   </g>\r\n   <g id=\"matplotlib.axis_2\">\r\n    <g id=\"ytick_1\">\r\n     <g id=\"line2d_9\">\r\n      <defs>\r\n       <path d=\"M 0 0 \r\nL -3.5 0 \r\n\" id=\"m00ece3da65\" style=\"stroke:#000000;stroke-width:0.8;\"/>\r\n      </defs>\r\n      <g>\r\n       <use style=\"stroke:#000000;stroke-width:0.8;\" x=\"52.160938\" xlink:href=\"#m00ece3da65\" y=\"205.272169\"/>\r\n      </g>\r\n     </g>\r\n     <g id=\"text_10\">\r\n      <!-- −7.5 -->\r\n      <g transform=\"translate(20.878125 209.071388)scale(0.1 -0.1)\">\r\n       <defs>\r\n        <path d=\"M 8.203125 72.90625 \r\nL 55.078125 72.90625 \r\nL 55.078125 68.703125 \r\nL 28.609375 0 \r\nL 18.3125 0 \r\nL 43.21875 64.59375 \r\nL 8.203125 64.59375 \r\nz\r\n\" id=\"DejaVuSans-55\"/>\r\n        <path d=\"M 10.6875 12.40625 \r\nL 21 12.40625 \r\nL 21 0 \r\nL 10.6875 0 \r\nz\r\n\" id=\"DejaVuSans-46\"/>\r\n        <path d=\"M 10.796875 72.90625 \r\nL 49.515625 72.90625 \r\nL 49.515625 64.59375 \r\nL 19.828125 64.59375 \r\nL 19.828125 46.734375 \r\nQ 21.96875 47.46875 24.109375 47.828125 \r\nQ 26.265625 48.1875 28.421875 48.1875 \r\nQ 40.625 48.1875 47.75 41.5 \r\nQ 54.890625 34.8125 54.890625 23.390625 \r\nQ 54.890625 11.625 47.5625 5.09375 \r\nQ 40.234375 -1.421875 26.90625 -1.421875 \r\nQ 22.3125 -1.421875 17.546875 -0.640625 \r\nQ 12.796875 0.140625 7.71875 1.703125 \r\nL 7.71875 11.625 \r\nQ 12.109375 9.234375 16.796875 8.0625 \r\nQ 21.484375 6.890625 26.703125 6.890625 \r\nQ 35.15625 6.890625 40.078125 11.328125 \r\nQ 45.015625 15.765625 45.015625 23.390625 \r\nQ 45.015625 31 40.078125 35.4375 \r\nQ 35.15625 39.890625 26.703125 39.890625 \r\nQ 22.75 39.890625 18.8125 39.015625 \r\nQ 14.890625 38.140625 10.796875 36.28125 \r\nz\r\n\" id=\"DejaVuSans-53\"/>\r\n       </defs>\r\n       <use xlink:href=\"#DejaVuSans-8722\"/>\r\n       <use x=\"83.789062\" xlink:href=\"#DejaVuSans-55\"/>\r\n       <use x=\"147.412109\" xlink:href=\"#DejaVuSans-46\"/>\r\n       <use x=\"179.199219\" xlink:href=\"#DejaVuSans-53\"/>\r\n      </g>\r\n     </g>\r\n    </g>\r\n    <g id=\"ytick_2\">\r\n     <g id=\"line2d_10\">\r\n      <g>\r\n       <use style=\"stroke:#000000;stroke-width:0.8;\" x=\"52.160938\" xlink:href=\"#m00ece3da65\" y=\"180.988051\"/>\r\n      </g>\r\n     </g>\r\n     <g id=\"text_11\">\r\n      <!-- −5.0 -->\r\n      <g transform=\"translate(20.878125 184.787269)scale(0.1 -0.1)\">\r\n       <use xlink:href=\"#DejaVuSans-8722\"/>\r\n       <use x=\"83.789062\" xlink:href=\"#DejaVuSans-53\"/>\r\n       <use x=\"147.412109\" xlink:href=\"#DejaVuSans-46\"/>\r\n       <use x=\"179.199219\" xlink:href=\"#DejaVuSans-48\"/>\r\n      </g>\r\n     </g>\r\n    </g>\r\n    <g id=\"ytick_3\">\r\n     <g id=\"line2d_11\">\r\n      <g>\r\n       <use style=\"stroke:#000000;stroke-width:0.8;\" x=\"52.160938\" xlink:href=\"#m00ece3da65\" y=\"156.703932\"/>\r\n      </g>\r\n     </g>\r\n     <g id=\"text_12\">\r\n      <!-- −2.5 -->\r\n      <g transform=\"translate(20.878125 160.50315)scale(0.1 -0.1)\">\r\n       <use xlink:href=\"#DejaVuSans-8722\"/>\r\n       <use x=\"83.789062\" xlink:href=\"#DejaVuSans-50\"/>\r\n       <use x=\"147.412109\" xlink:href=\"#DejaVuSans-46\"/>\r\n       <use x=\"179.199219\" xlink:href=\"#DejaVuSans-53\"/>\r\n      </g>\r\n     </g>\r\n    </g>\r\n    <g id=\"ytick_4\">\r\n     <g id=\"line2d_12\">\r\n      <g>\r\n       <use style=\"stroke:#000000;stroke-width:0.8;\" x=\"52.160938\" xlink:href=\"#m00ece3da65\" y=\"132.419813\"/>\r\n      </g>\r\n     </g>\r\n     <g id=\"text_13\">\r\n      <!-- 0.0 -->\r\n      <g transform=\"translate(29.257812 136.219032)scale(0.1 -0.1)\">\r\n       <use xlink:href=\"#DejaVuSans-48\"/>\r\n       <use x=\"63.623047\" xlink:href=\"#DejaVuSans-46\"/>\r\n       <use x=\"95.410156\" xlink:href=\"#DejaVuSans-48\"/>\r\n      </g>\r\n     </g>\r\n    </g>\r\n    <g id=\"ytick_5\">\r\n     <g id=\"line2d_13\">\r\n      <g>\r\n       <use style=\"stroke:#000000;stroke-width:0.8;\" x=\"52.160938\" xlink:href=\"#m00ece3da65\" y=\"108.135694\"/>\r\n      </g>\r\n     </g>\r\n     <g id=\"text_14\">\r\n      <!-- 2.5 -->\r\n      <g transform=\"translate(29.257812 111.934913)scale(0.1 -0.1)\">\r\n       <use xlink:href=\"#DejaVuSans-50\"/>\r\n       <use x=\"63.623047\" xlink:href=\"#DejaVuSans-46\"/>\r\n       <use x=\"95.410156\" xlink:href=\"#DejaVuSans-53\"/>\r\n      </g>\r\n     </g>\r\n    </g>\r\n    <g id=\"ytick_6\">\r\n     <g id=\"line2d_14\">\r\n      <g>\r\n       <use style=\"stroke:#000000;stroke-width:0.8;\" x=\"52.160938\" xlink:href=\"#m00ece3da65\" y=\"83.851575\"/>\r\n      </g>\r\n     </g>\r\n     <g id=\"text_15\">\r\n      <!-- 5.0 -->\r\n      <g transform=\"translate(29.257812 87.650794)scale(0.1 -0.1)\">\r\n       <use xlink:href=\"#DejaVuSans-53\"/>\r\n       <use x=\"63.623047\" xlink:href=\"#DejaVuSans-46\"/>\r\n       <use x=\"95.410156\" xlink:href=\"#DejaVuSans-48\"/>\r\n      </g>\r\n     </g>\r\n    </g>\r\n    <g id=\"ytick_7\">\r\n     <g id=\"line2d_15\">\r\n      <g>\r\n       <use style=\"stroke:#000000;stroke-width:0.8;\" x=\"52.160938\" xlink:href=\"#m00ece3da65\" y=\"59.567456\"/>\r\n      </g>\r\n     </g>\r\n     <g id=\"text_16\">\r\n      <!-- 7.5 -->\r\n      <g transform=\"translate(29.257812 63.366675)scale(0.1 -0.1)\">\r\n       <use xlink:href=\"#DejaVuSans-55\"/>\r\n       <use x=\"63.623047\" xlink:href=\"#DejaVuSans-46\"/>\r\n       <use x=\"95.410156\" xlink:href=\"#DejaVuSans-53\"/>\r\n      </g>\r\n     </g>\r\n    </g>\r\n    <g id=\"ytick_8\">\r\n     <g id=\"line2d_16\">\r\n      <g>\r\n       <use style=\"stroke:#000000;stroke-width:0.8;\" x=\"52.160938\" xlink:href=\"#m00ece3da65\" y=\"35.283338\"/>\r\n      </g>\r\n     </g>\r\n     <g id=\"text_17\">\r\n      <!-- 10.0 -->\r\n      <g transform=\"translate(22.895313 39.082556)scale(0.1 -0.1)\">\r\n       <use xlink:href=\"#DejaVuSans-49\"/>\r\n       <use x=\"63.623047\" xlink:href=\"#DejaVuSans-48\"/>\r\n       <use x=\"127.246094\" xlink:href=\"#DejaVuSans-46\"/>\r\n       <use x=\"159.033203\" xlink:href=\"#DejaVuSans-48\"/>\r\n      </g>\r\n     </g>\r\n    </g>\r\n    <g id=\"ytick_9\">\r\n     <g id=\"line2d_17\">\r\n      <g>\r\n       <use style=\"stroke:#000000;stroke-width:0.8;\" x=\"52.160938\" xlink:href=\"#m00ece3da65\" y=\"10.999219\"/>\r\n      </g>\r\n     </g>\r\n     <g id=\"text_18\">\r\n      <!-- 12.5 -->\r\n      <g transform=\"translate(22.895313 14.798437)scale(0.1 -0.1)\">\r\n       <use xlink:href=\"#DejaVuSans-49\"/>\r\n       <use x=\"63.623047\" xlink:href=\"#DejaVuSans-50\"/>\r\n       <use x=\"127.246094\" xlink:href=\"#DejaVuSans-46\"/>\r\n       <use x=\"159.033203\" xlink:href=\"#DejaVuSans-53\"/>\r\n      </g>\r\n     </g>\r\n    </g>\r\n    <g id=\"text_19\">\r\n     <!-- ACC Y -->\r\n     <g transform=\"translate(14.798437 134.313551)rotate(-90)scale(0.1 -0.1)\">\r\n      <defs>\r\n       <path d=\"M -0.203125 72.90625 \r\nL 10.40625 72.90625 \r\nL 30.609375 42.921875 \r\nL 50.6875 72.90625 \r\nL 61.28125 72.90625 \r\nL 35.5 34.71875 \r\nL 35.5 0 \r\nL 25.59375 0 \r\nL 25.59375 34.71875 \r\nz\r\n\" id=\"DejaVuSans-89\"/>\r\n      </defs>\r\n      <use xlink:href=\"#DejaVuSans-65\"/>\r\n      <use x=\"66.658203\" xlink:href=\"#DejaVuSans-67\"/>\r\n      <use x=\"136.482422\" xlink:href=\"#DejaVuSans-67\"/>\r\n      <use x=\"206.306641\" xlink:href=\"#DejaVuSans-32\"/>\r\n      <use x=\"238.09375\" xlink:href=\"#DejaVuSans-89\"/>\r\n     </g>\r\n    </g>\r\n   </g>\r\n   <g id=\"patch_3\">\r\n    <path d=\"M 52.160938 228.074957 \r\nL 52.160938 10.634957 \r\n\" style=\"fill:none;stroke:#000000;stroke-linecap:square;stroke-linejoin:miter;stroke-width:0.8;\"/>\r\n   </g>\r\n   <g id=\"patch_4\">\r\n    <path d=\"M 386.960938 228.074957 \r\nL 386.960938 10.634957 \r\n\" style=\"fill:none;stroke:#000000;stroke-linecap:square;stroke-linejoin:miter;stroke-width:0.8;\"/>\r\n   </g>\r\n   <g id=\"patch_5\">\r\n    <path d=\"M 52.160938 228.074957 \r\nL 386.960938 228.074957 \r\n\" style=\"fill:none;stroke:#000000;stroke-linecap:square;stroke-linejoin:miter;stroke-width:0.8;\"/>\r\n   </g>\r\n   <g id=\"patch_6\">\r\n    <path d=\"M 52.160938 10.634957 \r\nL 386.960938 10.634957 \r\n\" style=\"fill:none;stroke:#000000;stroke-linecap:square;stroke-linejoin:miter;stroke-width:0.8;\"/>\r\n   </g>\r\n   <g id=\"legend_1\">\r\n    <g id=\"patch_7\">\r\n     <path d=\"M 319.626563 47.991207 \r\nL 379.960938 47.991207 \r\nQ 381.960938 47.991207 381.960938 45.991207 \r\nL 381.960938 17.634957 \r\nQ 381.960938 15.634957 379.960938 15.634957 \r\nL 319.626563 15.634957 \r\nQ 317.626563 15.634957 317.626563 17.634957 \r\nL 317.626563 45.991207 \r\nQ 317.626563 47.991207 319.626563 47.991207 \r\nz\r\n\" style=\"fill:#ffffff;opacity:0.8;stroke:#cccccc;stroke-linejoin:miter;\"/>\r\n    </g>\r\n    <g id=\"PathCollection_3\">\r\n     <g>\r\n      <use style=\"fill:#0000ff;stroke:#0000ff;\" x=\"331.626563\" xlink:href=\"#mfba5f0aa83\" y=\"24.608394\"/>\r\n     </g>\r\n    </g>\r\n    <g id=\"text_20\">\r\n     <!-- Down -->\r\n     <g transform=\"translate(349.626563 27.233394)scale(0.1 -0.1)\">\r\n      <defs>\r\n       <path d=\"M 19.671875 64.796875 \r\nL 19.671875 8.109375 \r\nL 31.59375 8.109375 \r\nQ 46.6875 8.109375 53.6875 14.9375 \r\nQ 60.6875 21.78125 60.6875 36.53125 \r\nQ 60.6875 51.171875 53.6875 57.984375 \r\nQ 46.6875 64.796875 31.59375 64.796875 \r\nz\r\nM 9.8125 72.90625 \r\nL 30.078125 72.90625 \r\nQ 51.265625 72.90625 61.171875 64.09375 \r\nQ 71.09375 55.28125 71.09375 36.53125 \r\nQ 71.09375 17.671875 61.125 8.828125 \r\nQ 51.171875 0 30.078125 0 \r\nL 9.8125 0 \r\nz\r\n\" id=\"DejaVuSans-68\"/>\r\n       <path d=\"M 30.609375 48.390625 \r\nQ 23.390625 48.390625 19.1875 42.75 \r\nQ 14.984375 37.109375 14.984375 27.296875 \r\nQ 14.984375 17.484375 19.15625 11.84375 \r\nQ 23.34375 6.203125 30.609375 6.203125 \r\nQ 37.796875 6.203125 41.984375 11.859375 \r\nQ 46.1875 17.53125 46.1875 27.296875 \r\nQ 46.1875 37.015625 41.984375 42.703125 \r\nQ 37.796875 48.390625 30.609375 48.390625 \r\nz\r\nM 30.609375 56 \r\nQ 42.328125 56 49.015625 48.375 \r\nQ 55.71875 40.765625 55.71875 27.296875 \r\nQ 55.71875 13.875 49.015625 6.21875 \r\nQ 42.328125 -1.421875 30.609375 -1.421875 \r\nQ 18.84375 -1.421875 12.171875 6.21875 \r\nQ 5.515625 13.875 5.515625 27.296875 \r\nQ 5.515625 40.765625 12.171875 48.375 \r\nQ 18.84375 56 30.609375 56 \r\nz\r\n\" id=\"DejaVuSans-111\"/>\r\n       <path d=\"M 4.203125 54.6875 \r\nL 13.1875 54.6875 \r\nL 24.421875 12.015625 \r\nL 35.59375 54.6875 \r\nL 46.1875 54.6875 \r\nL 57.421875 12.015625 \r\nL 68.609375 54.6875 \r\nL 77.59375 54.6875 \r\nL 63.28125 0 \r\nL 52.6875 0 \r\nL 40.921875 44.828125 \r\nL 29.109375 0 \r\nL 18.5 0 \r\nz\r\n\" id=\"DejaVuSans-119\"/>\r\n       <path d=\"M 54.890625 33.015625 \r\nL 54.890625 0 \r\nL 45.90625 0 \r\nL 45.90625 32.71875 \r\nQ 45.90625 40.484375 42.875 44.328125 \r\nQ 39.84375 48.1875 33.796875 48.1875 \r\nQ 26.515625 48.1875 22.3125 43.546875 \r\nQ 18.109375 38.921875 18.109375 30.90625 \r\nL 18.109375 0 \r\nL 9.078125 0 \r\nL 9.078125 54.6875 \r\nL 18.109375 54.6875 \r\nL 18.109375 46.1875 \r\nQ 21.34375 51.125 25.703125 53.5625 \r\nQ 30.078125 56 35.796875 56 \r\nQ 45.21875 56 50.046875 50.171875 \r\nQ 54.890625 44.34375 54.890625 33.015625 \r\nz\r\n\" id=\"DejaVuSans-110\"/>\r\n      </defs>\r\n      <use xlink:href=\"#DejaVuSans-68\"/>\r\n      <use x=\"77.001953\" xlink:href=\"#DejaVuSans-111\"/>\r\n      <use x=\"138.183594\" xlink:href=\"#DejaVuSans-119\"/>\r\n      <use x=\"219.970703\" xlink:href=\"#DejaVuSans-110\"/>\r\n     </g>\r\n    </g>\r\n    <g id=\"PathCollection_4\">\r\n     <g>\r\n      <use style=\"fill:#ff0000;stroke:#ff0000;\" x=\"331.626563\" xlink:href=\"#me4fac1439d\" y=\"39.286519\"/>\r\n     </g>\r\n    </g>\r\n    <g id=\"text_21\">\r\n     <!-- Up -->\r\n     <g transform=\"translate(349.626563 41.911519)scale(0.1 -0.1)\">\r\n      <defs>\r\n       <path d=\"M 8.6875 72.90625 \r\nL 18.609375 72.90625 \r\nL 18.609375 28.609375 \r\nQ 18.609375 16.890625 22.84375 11.734375 \r\nQ 27.09375 6.59375 36.625 6.59375 \r\nQ 46.09375 6.59375 50.34375 11.734375 \r\nQ 54.59375 16.890625 54.59375 28.609375 \r\nL 54.59375 72.90625 \r\nL 64.5 72.90625 \r\nL 64.5 27.390625 \r\nQ 64.5 13.140625 57.4375 5.859375 \r\nQ 50.390625 -1.421875 36.625 -1.421875 \r\nQ 22.796875 -1.421875 15.734375 5.859375 \r\nQ 8.6875 13.140625 8.6875 27.390625 \r\nz\r\n\" id=\"DejaVuSans-85\"/>\r\n       <path d=\"M 18.109375 8.203125 \r\nL 18.109375 -20.796875 \r\nL 9.078125 -20.796875 \r\nL 9.078125 54.6875 \r\nL 18.109375 54.6875 \r\nL 18.109375 46.390625 \r\nQ 20.953125 51.265625 25.265625 53.625 \r\nQ 29.59375 56 35.59375 56 \r\nQ 45.5625 56 51.78125 48.09375 \r\nQ 58.015625 40.1875 58.015625 27.296875 \r\nQ 58.015625 14.40625 51.78125 6.484375 \r\nQ 45.5625 -1.421875 35.59375 -1.421875 \r\nQ 29.59375 -1.421875 25.265625 0.953125 \r\nQ 20.953125 3.328125 18.109375 8.203125 \r\nz\r\nM 48.6875 27.296875 \r\nQ 48.6875 37.203125 44.609375 42.84375 \r\nQ 40.53125 48.484375 33.40625 48.484375 \r\nQ 26.265625 48.484375 22.1875 42.84375 \r\nQ 18.109375 37.203125 18.109375 27.296875 \r\nQ 18.109375 17.390625 22.1875 11.75 \r\nQ 26.265625 6.109375 33.40625 6.109375 \r\nQ 40.53125 6.109375 44.609375 11.75 \r\nQ 48.6875 17.390625 48.6875 27.296875 \r\nz\r\n\" id=\"DejaVuSans-112\"/>\r\n      </defs>\r\n      <use xlink:href=\"#DejaVuSans-85\"/>\r\n      <use x=\"73.193359\" xlink:href=\"#DejaVuSans-112\"/>\r\n     </g>\r\n    </g>\r\n   </g>\r\n  </g>\r\n </g>\r\n <defs>\r\n  <clipPath id=\"p2b891dadd9\">\r\n   <rect height=\"217.44\" width=\"334.8\" x=\"52.160938\" y=\"10.634957\"/>\r\n  </clipPath>\r\n </defs>\r\n</svg>\r\n",
      "image/png": "[encoded data removed]"
     },
     "metadata": {
      "needs_background": "light"
     }
    }
   ],
   "source": [
    "axes= Down.plot(kind='scatter', x='ACC X', y='ACC Y', color= 'blue', label='Down')\n",
    "Up.plot(kind='scatter', x='ACC X', y='ACC Y', color= 'red', label='Up', ax= axes)"
   ]
  },
  {
   "cell_type": "code",
   "execution_count": 16,
   "metadata": {},
   "outputs": [
    {
     "output_type": "execute_result",
     "data": {
      "text/plain": [
       "Index(['Activity', 'ACC X', 'ACC Y', 'ACC Z', 'GYRO X', 'GYRO Y', 'GYRO Z'], dtype='object')"
      ]
     },
     "metadata": {},
     "execution_count": 16
    }
   ],
   "source": [
    "train.columns"
   ]
  },
  {
   "cell_type": "code",
   "execution_count": 27,
   "metadata": {},
   "outputs": [],
   "source": [
    "features= train[['ACC X', 'ACC Y', 'ACC Z', 'GYRO X', 'GYRO Y', 'GYRO Z']]\n",
    "X= np.asarray(features)"
   ]
  },
  {
   "cell_type": "code",
   "execution_count": 28,
   "metadata": {},
   "outputs": [],
   "source": [
    "Y= np.asarray(train['Activity'])\n"
   ]
  },
  {
   "cell_type": "code",
   "execution_count": 29,
   "metadata": {},
   "outputs": [
    {
     "output_type": "execute_result",
     "data": {
      "text/plain": [
       "array([[ 2.29,  9.09,  0.59, -0.06,  0.08, -0.11],\n",
       "       [ 2.97,  7.74,  0.06,  0.39, -0.08,  1.49],\n",
       "       [11.17,  2.38, -0.06, -0.17,  0.27,  2.06],\n",
       "       [ 9.17, -5.37,  0.67,  0.29,  0.23,  0.9 ],\n",
       "       [ 6.73, -8.01,  1.48,  0.08, -0.23,  0.11]])"
      ]
     },
     "metadata": {},
     "execution_count": 29
    }
   ],
   "source": [
    "X[0:5]"
   ]
  },
  {
   "cell_type": "code",
   "execution_count": 30,
   "metadata": {},
   "outputs": [],
   "source": [
    "X_train, X_test, Y_train, Y_test = train_test_split(X, Y, test_size=0.2, random_state=4)"
   ]
  },
  {
   "cell_type": "code",
   "execution_count": 31,
   "metadata": {},
   "outputs": [
    {
     "output_type": "execute_result",
     "data": {
      "text/plain": [
       "(187, 6)"
      ]
     },
     "metadata": {},
     "execution_count": 31
    }
   ],
   "source": [
    "X_train.shape"
   ]
  },
  {
   "cell_type": "code",
   "execution_count": 32,
   "metadata": {},
   "outputs": [
    {
     "output_type": "execute_result",
     "data": {
      "text/plain": [
       "SVC(C=2, gamma='auto', kernel='linear')"
      ]
     },
     "metadata": {},
     "execution_count": 32
    }
   ],
   "source": [
    "classifier = SVC(kernel='linear', gamma='auto', C=2)\n",
    "classifier.fit(X_train, Y_train)"
   ]
  },
  {
   "cell_type": "code",
   "execution_count": 48,
   "metadata": {},
   "outputs": [],
   "source": [
    "import joblib"
   ]
  },
  {
   "cell_type": "code",
   "execution_count": 50,
   "metadata": {},
   "outputs": [
    {
     "output_type": "execute_result",
     "data": {
      "text/plain": [
       "['model.pkl']"
      ]
     },
     "metadata": {},
     "execution_count": 50
    }
   ],
   "source": [
    "joblib.dump(classifier, \"model.pkl\")"
   ]
  },
  {
   "cell_type": "code",
   "execution_count": 51,
   "metadata": {},
   "outputs": [],
   "source": [
    "loaded_model = joblib.load('model.pkl')"
   ]
  },
  {
   "cell_type": "code",
   "execution_count": null,
   "metadata": {},
   "outputs": [],
   "source": []
  },
  {
   "cell_type": "code",
   "execution_count": 33,
   "metadata": {},
   "outputs": [],
   "source": [
    "Y_predict =classifier.predict(X_test)"
   ]
  },
  {
   "cell_type": "code",
   "execution_count": 35,
   "metadata": {},
   "outputs": [
    {
     "output_type": "stream",
     "name": "stdout",
     "text": [
      "              precision    recall  f1-score   support\n\n        Down       1.00      0.90      0.95        10\n       Forth       0.80      0.92      0.86        13\n        Left       1.00      0.50      0.67        10\n       Right       0.55      0.86      0.67         7\n          Up       1.00      1.00      1.00         7\n\n    accuracy                           0.83        47\n   macro avg       0.87      0.84      0.83        47\nweighted avg       0.88      0.83      0.83        47\n\n"
     ]
    }
   ],
   "source": [
    "print(classification_report(Y_test, Y_predict))"
   ]
  },
  {
   "cell_type": "code",
   "execution_count": 36,
   "metadata": {},
   "outputs": [
    {
     "output_type": "stream",
     "name": "stdout",
     "text": [
      "['Right' 'Right' 'Right' 'Forth' 'Right' 'Forth' 'Forth' 'Left' 'Down'\n 'Up' 'Up' 'Right' 'Right' 'Up' 'Forth' 'Left' 'Down' 'Down' 'Up' 'Down'\n 'Forth' 'Forth' 'Right' 'Right' 'Left' 'Left' 'Forth' 'Right' 'Down'\n 'Forth' 'Down' 'Down' 'Down' 'Left' 'Forth' 'Right' 'Forth' 'Up' 'Down'\n 'Forth' 'Up' 'Right' 'Forth' 'Forth' 'Forth' 'Up' 'Forth']\n"
     ]
    }
   ],
   "source": [
    "print(Y_predict)"
   ]
  },
  {
   "cell_type": "code",
   "execution_count": 42,
   "metadata": {},
   "outputs": [],
   "source": [
    "testing = (pd.read_csv(\"./Dataset/testdata.csv\"))"
   ]
  },
  {
   "cell_type": "code",
   "execution_count": 43,
   "metadata": {},
   "outputs": [
    {
     "output_type": "execute_result",
     "data": {
      "text/plain": [
       "   ACC X  ACC Y  ACC Z  GYRO X  GYRO Y  GYRO Z\n",
       "0   2.29   9.09   0.59   -0.06    0.08   -0.11\n",
       "1   2.97   7.74   0.06    0.39   -0.08    1.49\n",
       "2  11.17   2.38  -0.06   -0.17    0.27    2.06\n",
       "3   9.17  -5.37   0.67    0.29    0.23    0.90\n",
       "4   6.73  -8.01   1.48    0.08   -0.23    0.11"
      ],
      "text/html": "<div>\n<style scoped>\n    .dataframe tbody tr th:only-of-type {\n        vertical-align: middle;\n    }\n\n    .dataframe tbody tr th {\n        vertical-align: top;\n    }\n\n    .dataframe thead th {\n        text-align: right;\n    }\n</style>\n<table border=\"1\" class=\"dataframe\">\n  <thead>\n    <tr style=\"text-align: right;\">\n      <th></th>\n      <th>ACC X</th>\n      <th>ACC Y</th>\n      <th>ACC Z</th>\n      <th>GYRO X</th>\n      <th>GYRO Y</th>\n      <th>GYRO Z</th>\n    </tr>\n  </thead>\n  <tbody>\n    <tr>\n      <th>0</th>\n      <td>2.29</td>\n      <td>9.09</td>\n      <td>0.59</td>\n      <td>-0.06</td>\n      <td>0.08</td>\n      <td>-0.11</td>\n    </tr>\n    <tr>\n      <th>1</th>\n      <td>2.97</td>\n      <td>7.74</td>\n      <td>0.06</td>\n      <td>0.39</td>\n      <td>-0.08</td>\n      <td>1.49</td>\n    </tr>\n    <tr>\n      <th>2</th>\n      <td>11.17</td>\n      <td>2.38</td>\n      <td>-0.06</td>\n      <td>-0.17</td>\n      <td>0.27</td>\n      <td>2.06</td>\n    </tr>\n    <tr>\n      <th>3</th>\n      <td>9.17</td>\n      <td>-5.37</td>\n      <td>0.67</td>\n      <td>0.29</td>\n      <td>0.23</td>\n      <td>0.90</td>\n    </tr>\n    <tr>\n      <th>4</th>\n      <td>6.73</td>\n      <td>-8.01</td>\n      <td>1.48</td>\n      <td>0.08</td>\n      <td>-0.23</td>\n      <td>0.11</td>\n    </tr>\n  </tbody>\n</table>\n</div>"
     },
     "metadata": {},
     "execution_count": 43
    }
   ],
   "source": [
    "testing.head()\n",
    "#train.shape\n",
    "#train.count()\n",
    "#train['Activity'].value_counts()"
   ]
  },
  {
   "cell_type": "code",
   "execution_count": 44,
   "metadata": {},
   "outputs": [],
   "source": [
    "new_predict =classifier.predict(testing)"
   ]
  },
  {
   "cell_type": "code",
   "execution_count": 45,
   "metadata": {},
   "outputs": [
    {
     "output_type": "stream",
     "name": "stdout",
     "text": [
      "['Right' 'Down' 'Down' 'Down' 'Down' 'Down' 'Down' 'Up']\n"
     ]
    }
   ],
   "source": [
    "print(new_predict)"
   ]
  },
  {
   "cell_type": "code",
   "execution_count": 52,
   "metadata": {},
   "outputs": [],
   "source": [
    "predictions = loaded_model.predict(testing)"
   ]
  },
  {
   "cell_type": "code",
   "execution_count": 53,
   "metadata": {},
   "outputs": [
    {
     "output_type": "stream",
     "name": "stdout",
     "text": [
      "['Right' 'Down' 'Down' 'Down' 'Down' 'Down' 'Down' 'Up']\n"
     ]
    }
   ],
   "source": [
    "print(predictions)"
   ]
  },
  {
   "cell_type": "code",
   "execution_count": null,
   "metadata": {},
   "outputs": [],
   "source": []
  },
  {
   "cell_type": "code",
   "execution_count": 3,
   "metadata": {},
   "outputs": [],
   "source": [
    "def plot_confusion(classifier, test_pts, test_labels):\n",
    "    cl = ['DOWN',\n",
    "               'FORTH',\n",
    "               'LEFT',\n",
    "               'RIGHT',\n",
    "               'UP']\n",
    "    \n",
    "    pred_label = classifier.predict(test_pts)\n",
    "\n",
    "    result = confusion_matrix(test_labels, pred_label)\n",
    "\n",
    "    fig = plt.figure()\n",
    "    ax = fig.add_subplot(111)\n",
    "    \n",
    "    cax = ax.matshow(result)\n",
    "\n",
    "    fig.colorbar(cax)\n",
    "    ax.set_xticklabels([''] + cl,rotation = 90)\n",
    "    ax.set_yticklabels([''] + cl)\n",
    "    plt.xlabel(\"Predicted Label\")\n",
    "    plt.ylabel(\"True Label\")\n",
    "    plt.show()"
   ]
  },
  {
   "cell_type": "code",
   "execution_count": 4,
   "metadata": {},
   "outputs": [
    {
     "name": "stdout",
     "output_type": "stream",
     "text": [
      "Any missing sample in training set: False\n",
      "Any missing sample in test set: False \n",
      "\n"
     ]
    },
    {
     "data": {
      "text/html": [
       "<div>\n",
       "<style scoped>\n",
       "    .dataframe tbody tr th:only-of-type {\n",
       "        vertical-align: middle;\n",
       "    }\n",
       "\n",
       "    .dataframe tbody tr th {\n",
       "        vertical-align: top;\n",
       "    }\n",
       "\n",
       "    .dataframe thead th {\n",
       "        text-align: right;\n",
       "    }\n",
       "</style>\n",
       "<table border=\"1\" class=\"dataframe\">\n",
       "  <thead>\n",
       "    <tr style=\"text-align: right;\">\n",
       "      <th>col_0</th>\n",
       "      <th>count</th>\n",
       "    </tr>\n",
       "    <tr>\n",
       "      <th>Activity</th>\n",
       "      <th></th>\n",
       "    </tr>\n",
       "  </thead>\n",
       "  <tbody>\n",
       "    <tr>\n",
       "      <th>Down</th>\n",
       "      <td>51</td>\n",
       "    </tr>\n",
       "    <tr>\n",
       "      <th>Forth</th>\n",
       "      <td>51</td>\n",
       "    </tr>\n",
       "    <tr>\n",
       "      <th>Left</th>\n",
       "      <td>41</td>\n",
       "    </tr>\n",
       "    <tr>\n",
       "      <th>Right</th>\n",
       "      <td>51</td>\n",
       "    </tr>\n",
       "    <tr>\n",
       "      <th>Up</th>\n",
       "      <td>40</td>\n",
       "    </tr>\n",
       "  </tbody>\n",
       "</table>\n",
       "</div>"
      ],
      "text/plain": [
       "col_0     count\n",
       "Activity       \n",
       "Down         51\n",
       "Forth        51\n",
       "Left         41\n",
       "Right        51\n",
       "Up           40"
      ]
     },
     "execution_count": 4,
     "metadata": {},
     "output_type": "execute_result"
    }
   ],
   "source": [
    "# Summary statistics of training and test data to check for missing values\n",
    "print(\"Any missing sample in training set:\",train.isnull().values.any())\n",
    "print(\"Any missing sample in test set:\",test.isnull().values.any(), \"\\n\")\n",
    "\n",
    "#Frequency distribution of classes\"\n",
    "train_outcome = pd.crosstab(index=train[\"Activity\"],  # Make a crosstab\n",
    "                              columns=\"count\")      # Name the count column\n",
    "\n",
    "train_outcome\n"
   ]
  },
  {
   "cell_type": "code",
   "execution_count": 5,
   "metadata": {},
   "outputs": [
    {
     "data": {
      "image/png": "[encoded data removed]",
      "text/plain": [
       "<Figure size 432x288 with 1 Axes>"
      ]
     },
     "metadata": {},
     "output_type": "display_data"
    }
   ],
   "source": [
    "# Visualizing Outcome Distribution \n",
    "temp = train[\"Activity\"].value_counts()\n",
    "df = pd.DataFrame({'labels': temp.index,\n",
    "                   'values': temp.values\n",
    "                  })\n",
    "\n",
    "#df.plot(kind='pie',labels='labels',values='values', title='Activity Ditribution',subplots= \"True\")\n",
    "\n",
    "labels = df['labels']\n",
    "sizes = df['values']\n",
    "colors = ['yellowgreen', 'gold', 'lightskyblue', 'lightcoral','cyan','lightpink']\n",
    "patches, texts = plt.pie(sizes, colors=colors, shadow=True, startangle=90, pctdistance=1.1, labeldistance=1.2)\n",
    "plt.legend(patches, labels, loc=\"best\")\n",
    "plt.axis('equal')\n",
    "plt.tight_layout()\n",
    "plt.show()\n"
   ]
  },
  {
   "cell_type": "code",
   "execution_count": 6,
   "metadata": {},
   "outputs": [
    {
     "name": "stdout",
     "output_type": "stream",
     "text": [
      "Dimension of Train set (234, 6)\n",
      "Dimension of Test set (234, 6) \n",
      "\n",
      "['Forth' 'Right' 'Forth' 'Up' 'Up' 'Forth' 'Right' 'Up' 'Left' 'Up' 'Down'\n",
      " 'Up' 'Down' 'Right' 'Down' 'Left' 'Left' 'Up' 'Down' 'Right' 'Forth' 'Up'\n",
      " 'Up' 'Left' 'Right' 'Right' 'Forth' 'Down' 'Down' 'Forth' 'Up' 'Up'\n",
      " 'Forth' 'Up' 'Left' 'Left' 'Right' 'Down' 'Down' 'Up' 'Left' 'Left'\n",
      " 'Left' 'Forth' 'Down' 'Down' 'Up' 'Down' 'Up' 'Right' 'Right' 'Forth'\n",
      " 'Down' 'Forth' 'Up' 'Right' 'Left' 'Left' 'Down' 'Left' 'Right' 'Down'\n",
      " 'Forth' 'Forth' 'Down' 'Up' 'Up' 'Up' 'Down' 'Left' 'Right' 'Forth'\n",
      " 'Right' 'Right' 'Right' 'Right' 'Down' 'Left' 'Down' 'Forth' 'Left' 'Up'\n",
      " 'Up' 'Down' 'Left' 'Forth' 'Forth' 'Left' 'Right' 'Forth' 'Down' 'Left'\n",
      " 'Down' 'Forth' 'Up' 'Right' 'Left' 'Forth' 'Down' 'Right' 'Down' 'Right'\n",
      " 'Right' 'Left' 'Up' 'Forth' 'Forth' 'Forth' 'Down' 'Left' 'Up' 'Left'\n",
      " 'Down' 'Forth' 'Forth' 'Left' 'Up' 'Up' 'Left' 'Up' 'Right' 'Down'\n",
      " 'Right' 'Left' 'Forth' 'Right' 'Forth' 'Down' 'Left' 'Right' 'Down'\n",
      " 'Down' 'Forth' 'Down' 'Forth' 'Down' 'Down' 'Right' 'Left' 'Right' 'Left'\n",
      " 'Forth' 'Forth' 'Down' 'Up' 'Forth' 'Forth' 'Left' 'Right' 'Left' 'Down'\n",
      " 'Right' 'Forth' 'Down' 'Forth' 'Right' 'Down' 'Right' 'Up' 'Up' 'Down'\n",
      " 'Up' 'Right' 'Right' 'Forth' 'Left' 'Left' 'Down' 'Forth' 'Forth' 'Right'\n",
      " 'Left' 'Right' 'Down' 'Left' 'Forth' 'Up' 'Down' 'Right' 'Down' 'Up'\n",
      " 'Down' 'Right' 'Down' 'Down' 'Up' 'Left' 'Right' 'Down' 'Up' 'Left'\n",
      " 'Forth' 'Down' 'Left' 'Forth' 'Right' 'Up' 'Forth' 'Right' 'Up' 'Right'\n",
      " 'Right' 'Right' 'Down' 'Left' 'Up' 'Right' 'Right' 'Forth' 'Right'\n",
      " 'Forth' 'Down' 'Right' 'Left' 'Forth' 'Forth' 'Left' 'Forth' 'Up' 'Right'\n",
      " 'Down' 'Up' 'Up' 'Left' 'Right' 'Forth' 'Forth' 'Right' 'Down' 'Forth'\n",
      " 'Forth' 'Right' 'Down' 'Forth']\n",
      "[1 3 1 4 4 1 3 4 2 4 0 4 0 3 0 2 2 4 0 3 1 4 4 2 3 3 1 0 0 1 4 4 1 4 2 2 3\n",
      " 0 0 4 2 2 2 1 0 0 4 0 4 3 3 1 0 1 4 3 2 2 0 2 3 0 1 1 0 4 4 4 0 2 3 1 3 3\n",
      " 3 3 0 2 0 1 2 4 4 0 2 1 1 2 3 1 0 2 0 1 4 3 2 1 0 3 0 3 3 2 4 1 1 1 0 2 4\n",
      " 2 0 1 1 2 4 4 2 4 3 0 3 2 1 3 1 0 2 3 0 0 1 0 1 0 0 3 2 3 2 1 1 0 4 1 1 2\n",
      " 3 2 0 3 1 0 1 3 0 3 4 4 0 4 3 3 1 2 2 0 1 1 3 2 3 0 2 1 4 0 3 0 4 0 3 0 0\n",
      " 4 2 3 0 4 2 1 0 2 1 3 4 1 3 4 3 3 3 0 2 4 3 3 1 3 1 0 3 2 1 1 2 1 4 3 0 4\n",
      " 4 2 3 1 1 3 0 1 1 3 0 1]\n",
      "Number of numeric features: 6\n",
      "['ACC X', 'ACC Y', 'ACC Z', 'GYRO X', 'GYRO Y', 'GYRO Z']\n",
      "[[-0.57429899  0.51863331 -0.87922891  0.14265745 -0.02979558 -0.17838942]\n",
      " [-0.49768809  0.44103976  0.68799166 -1.27784648 -0.95326114 -0.29677604]\n",
      " [-0.5777813   0.14230458  2.38402489  1.18714562  1.07836309 -0.48619464]\n",
      " ...\n",
      " [-0.08677509  0.31495024  1.09160463 -0.65115357 -0.63004819 -0.27309871]\n",
      " [ 2.0409185  -2.47453795  0.60641032  2.02273616 -0.3991818   2.11831107]\n",
      " [-0.61608675  0.52251299 -0.6988912  -0.10801972  0.0163777  -0.20206674]]\n",
      "[[-1.59809918  0.3731454  -1.16691049 -0.19157877 -0.63004819 -0.29677604]\n",
      " [-0.31312547  0.48953573 -0.63877863 -1.06894884 -0.8147413  -0.65193591]\n",
      " [ 1.26088026 -2.90518216  0.31872874 -0.02446066 -0.21448869 -0.22574407]\n",
      " ...\n",
      " [ 0.09778753  0.48759589 -0.73753499  0.18443697 -0.30683524 -0.20206674]\n",
      " [-0.53599354  0.42358121  0.69657917 -0.52581499  0.29341737 -0.13103477]\n",
      " [-0.20517375  0.4778967  -0.10635301  0.01731886 -0.07596885 -0.17838942]]\n"
     ]
    }
   ],
   "source": [
    "# Seperating Predictors and Outcome values from train and test sets\n",
    "X_train = pd.DataFrame(train.drop(['Activity'],axis=1))\n",
    "Y_train_label = train.Activity.values.astype(object)\n",
    "X_test = pd.DataFrame(test.drop(['Activity'],axis=1))\n",
    "Y_test_label = test.Activity.values.astype(object)\n",
    "\n",
    "# Dimension of Train and Test set \n",
    "print(\"Dimension of Train set\",X_train.shape)\n",
    "print(\"Dimension of Test set\",X_test.shape,\"\\n\")\n",
    "\n",
    "# Transforming non numerical labels into numerical labels\n",
    "from sklearn import preprocessing\n",
    "encoder = preprocessing.LabelEncoder()\n",
    "\n",
    "# encoding train labels \n",
    "print(Y_train_label)\n",
    "encoder.fit(Y_train_label)\n",
    "Y_train = encoder.transform(Y_train_label)\n",
    "print(Y_train)\n",
    "\n",
    "# encoding test labels \n",
    "encoder.fit(Y_test_label)\n",
    "Y_test = encoder.transform(Y_test_label)\n",
    "\n",
    "#Total Number of Continous and Categorical features in the training set\n",
    "num_cols = X_train._get_numeric_data().columns\n",
    "print(\"Number of numeric features:\",num_cols.size)\n",
    "#list(set(X_train.columns) - set(num_cols))\n",
    "\n",
    "\n",
    "names_of_predictors = list(X_train.columns.values)\n",
    "print(names_of_predictors)\n",
    "\n",
    "# Scaling the Train and Test feature set \n",
    "from sklearn.preprocessing import StandardScaler\n",
    "\n",
    "scaler = StandardScaler()\n",
    "X_train_scaled = scaler.fit_transform(X_train)\n",
    "X_test_scaled = scaler.transform(X_test)\n",
    "print(X_train_scaled)\n",
    "print(X_test_scaled)"
   ]
  },
  {
   "cell_type": "code",
   "execution_count": 7,
   "metadata": {
    "scrolled": false
   },
   "outputs": [
    {
     "name": "stdout",
     "output_type": "stream",
     "text": [
      "0.534148535112301\n"
     ]
    }
   ],
   "source": [
    "from sklearn.decomposition import PCA\n",
    "\n",
    "pca = PCA(n_components=2)\n",
    "\n",
    "X_train_scaled = pca.fit_transform(X_train_scaled, Y_train)\n",
    "print(pca.explained_variance_ratio_.sum())\n",
    "X_test_scaled = pca.transform(X_test_scaled)"
   ]
  },
  {
   "cell_type": "code",
   "execution_count": 8,
   "metadata": {},
   "outputs": [],
   "source": [
    "#Libraries to Build Ensemble Model : Random Forest Classifier \n",
    "# Create the parameter grid based on the results of random search \n",
    "params_grid = [{'kernel': ['rbf'], 'gamma': [1e-2, 1e-3, 1e-4],\n",
    "                'C': [1, 10, 100]},\n",
    "               {'kernel': ['linear'], 'C': [1, 10, 100]}]\n"
   ]
  },
  {
   "cell_type": "code",
   "execution_count": 9,
   "metadata": {
    "scrolled": true
   },
   "outputs": [
    {
     "name": "stdout",
     "output_type": "stream",
     "text": [
      "Best score for training data: 0.582471264367816 \n",
      "\n",
      "Best C: 100 \n",
      "\n",
      "Best Kernel: rbf \n",
      "\n",
      "Best Gamma: 0.01 \n",
      "\n"
     ]
    }
   ],
   "source": [
    "# Performing CV to tune parameters for best SVM fit \n",
    "svm_model = GridSearchCV(SVC(), params_grid, cv=8)\n",
    "svm_model.fit(X_train_scaled, Y_train)\n",
    "\n",
    "# View the accuracy score\n",
    "print('Best score for training data:', svm_model.best_score_,\"\\n\") \n",
    "\n",
    "# View the best parameters for the model found using grid search\n",
    "print('Best C:',svm_model.best_estimator_.C,\"\\n\") \n",
    "print('Best Kernel:',svm_model.best_estimator_.kernel,\"\\n\")\n",
    "print('Best Gamma:',svm_model.best_estimator_.gamma,\"\\n\")"
   ]
  },
  {
   "cell_type": "code",
   "execution_count": 10,
   "metadata": {},
   "outputs": [
    {
     "name": "stdout",
     "output_type": "stream",
     "text": [
      "[4 3 0 1 1 3 1 4 2 3 0 1 0 1 3 0 3 4 3 3 2 2 3 2 2 3 3 0 1 3 0 1 1 3 2 3 0\n",
      " 3 2 3 4 3 1 3 3 3 2 3 1 1 3 3 3 2 3 0 2 4 0 2 3 2 3 3 1 0 3 1 2 0 1 0 4 4\n",
      " 3 1 0 4 1 3 4 4 3 2 0 2 0 4 1 1 3 4 4 1 2 1 3 1 2 1 0 1 3 3 2 3 3 3 3 3 1\n",
      " 4 0 3 3 2 4 0 0 3 4 4 1 2 0 3 3 4 1 3 1 2 0 4 3 0 3 0 4 4 1 4 4 3 4 1 1 3\n",
      " 3 3 1 0 4 3 3 4 4 4 0 2 0 1 3 2 0 1 3 4 1 1 1 0 3 3 3 2 2 1 4 4 2 1 1 4 1\n",
      " 3 4 3 3 3 1 2 2 0 0 2 3 0 3 3 1 2 0 3 2 0 2 4 1 3 3 1 1 4 4 4 3 2 0 0 2 1\n",
      " 2 1 0 3 2 3 1 0 3 1 3 1]\n",
      "['Up' 'Right' 'Down' 'Forth' 'Forth' 'Forth' 'Right' 'Up' 'Down' 'Forth'\n",
      " 'Down' 'Down' 'Down' 'Right' 'Right' 'Down' 'Right' 'Up' 'Left' 'Right'\n",
      " 'Left' 'Left' 'Right' 'Left' 'Left' 'Left' 'Forth' 'Down' 'Down' 'Left'\n",
      " 'Down' 'Forth' 'Forth' 'Right' 'Right' 'Forth' 'Down' 'Forth' 'Left'\n",
      " 'Down' 'Up' 'Right' 'Forth' 'Forth' 'Forth' 'Right' 'Forth' 'Right'\n",
      " 'Forth' 'Down' 'Right' 'Right' 'Forth' 'Left' 'Left' 'Down' 'Forth' 'Up'\n",
      " 'Down' 'Left' 'Forth' 'Right' 'Left' 'Right' 'Right' 'Down' 'Right'\n",
      " 'Left' 'Left' 'Down' 'Left' 'Down' 'Up' 'Up' 'Forth' 'Right' 'Forth' 'Up'\n",
      " 'Left' 'Left' 'Up' 'Up' 'Right' 'Left' 'Down' 'Left' 'Down' 'Up' 'Down'\n",
      " 'Up' 'Right' 'Up' 'Up' 'Left' 'Left' 'Left' 'Forth' 'Forth' 'Left'\n",
      " 'Forth' 'Down' 'Forth' 'Left' 'Forth' 'Down' 'Right' 'Right' 'Right'\n",
      " 'Right' 'Right' 'Forth' 'Up' 'Down' 'Right' 'Forth' 'Right' 'Up' 'Down'\n",
      " 'Down' 'Forth' 'Up' 'Up' 'Right' 'Left' 'Down' 'Left' 'Forth' 'Up'\n",
      " 'Forth' 'Right' 'Forth' 'Left' 'Down' 'Up' 'Right' 'Down' 'Left' 'Down'\n",
      " 'Up' 'Up' 'Right' 'Up' 'Up' 'Right' 'Up' 'Right' 'Left' 'Forth' 'Right'\n",
      " 'Forth' 'Down' 'Down' 'Up' 'Right' 'Forth' 'Up' 'Up' 'Up' 'Down' 'Left'\n",
      " 'Down' 'Right' 'Right' 'Right' 'Down' 'Down' 'Forth' 'Up' 'Forth' 'Forth'\n",
      " 'Right' 'Down' 'Forth' 'Right' 'Right' 'Down' 'Forth' 'Forth' 'Up' 'Up'\n",
      " 'Left' 'Right' 'Forth' 'Up' 'Down' 'Forth' 'Up' 'Left' 'Forth' 'Forth'\n",
      " 'Down' 'Left' 'Right' 'Down' 'Down' 'Down' 'Right' 'Down' 'Right' 'Forth'\n",
      " 'Left' 'Left' 'Down' 'Left' 'Down' 'Down' 'Up' 'Up' 'Left' 'Right'\n",
      " 'Forth' 'Right' 'Forth' 'Up' 'Up' 'Up' 'Left' 'Forth' 'Down' 'Down'\n",
      " 'Left' 'Down' 'Left' 'Up' 'Down' 'Forth' 'Left' 'Forth' 'Right' 'Down'\n",
      " 'Right' 'Right' 'Forth' 'Forth']\n",
      "[[36  9  5  1  0]\n",
      " [ 1 18  4 28  0]\n",
      " [ 0  8 21 12  0]\n",
      " [ 0 13  5 33  0]\n",
      " [ 0  2  1  0 37]]\n",
      "\n",
      "\n",
      "              precision    recall  f1-score   support\n",
      "\n",
      "        Down       0.97      0.71      0.82        51\n",
      "       Forth       0.36      0.35      0.36        51\n",
      "        Left       0.58      0.51      0.55        41\n",
      "       Right       0.45      0.65      0.53        51\n",
      "          Up       1.00      0.93      0.96        40\n",
      "\n",
      "    accuracy                           0.62       234\n",
      "   macro avg       0.67      0.63      0.64       234\n",
      "weighted avg       0.66      0.62      0.63       234\n",
      "\n"
     ]
    },
    {
     "name": "stderr",
     "output_type": "stream",
     "text": [
      "<ipython-input-3-8f06aa866d90>:18: UserWarning: FixedFormatter should only be used together with FixedLocator\n",
      "  ax.set_xticklabels([''] + cl,rotation = 90)\n",
      "<ipython-input-3-8f06aa866d90>:19: UserWarning: FixedFormatter should only be used together with FixedLocator\n",
      "  ax.set_yticklabels([''] + cl)\n"
     ]
    },
    {
     "data": {
      "image/png": "[encoded data removed]",
      "text/plain": [
       "<Figure size 432x288 with 2 Axes>"
      ]
     },
     "metadata": {
      "needs_background": "light"
     },
     "output_type": "display_data"
    },
    {
     "name": "stdout",
     "output_type": "stream",
     "text": [
      "Training set score for SVM: 0.619658\n",
      "Testing  set score for SVM: 0.619658\n",
      "Running time: 1.453125 Seconds\n"
     ]
    }
   ],
   "source": [
    "final_model = svm_model.best_estimator_\n",
    "Y_pred = final_model.predict(X_test_scaled)\n",
    "print(Y_pred)\n",
    "Y_pred_label = list(encoder.inverse_transform(Y_pred))\n",
    "#Y_pred_label = ['Forth','Forth','Forth','Forth','DOWN','Up','DOWN','Forth','Right','Left','DOWN','Left','Right','Up','Forth','Right','Right','Forth','Right','Right','Forth','Forth','Right','Right','Right','Right','Right','Right','Right','Up','Forth','Right','Right','Left','Right','Left','Right'\n",
    "#,'Forth','Left','DOWN','Up’,’DOWN','Up','DOWN','DOWN','Up','Right','Up','DOWN','DOWN','Right','Up','Up','Right','DOWN','Left','DOWN','Left','Up','Right','Forth','Right','DOWN','Left','Up','Up','DOWN','DOWN','Up','DOWN','Forth','Forth','Up','Right'\n",
    "#,'Right','DOWN','Right','Forth','Up','Forth','DOWN','DOWN','Right','Forth','Left','DOWN','Left','DOWN','Right','Right','Up','Forth','Right','Up','DOWN','Right','Right','DOWN','Left','DOWN','Right','Forth','Right','Left','Forth','Up','Forth','Right','Right','Up','Up'\n",
    "#,'Forth','Forth','Right','Forth','Forth','Left','Right','DOWN','Up','Left','Up','Up','Left','Right','Up','Forth','Up','Up','Up','Forth','Right','Left','Up','Forth','Right','Forth','Right','Forth','Forth','Left','Right','Forth','Forth','Forth','Up','Forth','Forth'\n",
    "#,'Right','DOWN','Forth','Right','Forth','Forth','Left','Right','Left','DOWN','Right','Left','Right','DOWN','Forth','Forth','Up','Right','Right','Right','Left','Right','Left','DOWN','Left','Up','Left','Right','DOWN','Right','Forth','Forth','Right','Forth','Up','Up','Forth'\n",
    "#,'DOWN','Up','Left','Up','Up','Left','Right','Right','Right','DOWN','Forth','Right','Right','Right','Right','Forth','Left','DOWN','Forth','Up','DOWN','Left','Forth','Right','Left','Right','Forth','Left','Left','DOWN','Right','Right','DOWN','Right','Up','Forth','Right'\n",
    "#,'DOWN','Right','Right','Forth','Forth','Left','Forth','Left','Forth','DOWN','Right','DOWN', 'UP']\n",
    "\n",
    "\n",
    "\n",
    "\n",
    "\n",
    "\n",
    "\n",
    "# Making the Confusion Matrix\n",
    "print(Y_test_label)\n",
    "print(confusion_matrix(Y_test_label,Y_pred_label)) #Original\n",
    "#print(confusion_matrix(Y_test_label,Y_test_label))\n",
    "print(\"\\n\")\n",
    "print(classification_report(Y_test_label,Y_pred_label))\n",
    "plot_confusion(final_model,X_test_scaled , Y_test)\n",
    "\n",
    "print(\"Training set score for SVM: %f\" % final_model.score(X_train_scaled , Y_train))\n",
    "print(\"Testing  set score for SVM: %f\" % final_model.score(X_test_scaled  , Y_test ))\n",
    "\n",
    "end = time.process_time()\n",
    "print('Running time: %s Seconds'%(end-start))"
   ]
  },
  {
   "cell_type": "code",
   "execution_count": null,
   "metadata": {},
   "outputs": [],
   "source": []
  },
  {
   "cell_type": "code",
   "execution_count": null,
   "metadata": {},
   "outputs": [],
   "source": []
  },
  {
   "cell_type": "code",
   "execution_count": null,
   "metadata": {},
   "outputs": [],
   "source": []
  }
 ],
 "metadata": {
  "kernelspec": {
   "name": "python388jvsc74a57bd06a463d4d4b6c2f4f75004f51d5aaaeeac1a6f3393106d9180a2206ed5db72cde",
   "display_name": "Python 3.8.8 64-bit ('base': conda)"
  },
  "language_info": {
   "codemirror_mode": {
    "name": "ipython",
    "version": 3
   },
   "file_extension": ".py",
   "mimetype": "text/x-python",
   "name": "python",
   "nbconvert_exporter": "python",
   "pygments_lexer": "ipython3",
   "version": "3.8.8"
  }
 },
 "nbformat": 4,
 "nbformat_minor": 2
}