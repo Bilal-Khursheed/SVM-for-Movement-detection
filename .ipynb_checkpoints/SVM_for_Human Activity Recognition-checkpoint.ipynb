{
 "cells": [
  {
   "cell_type": "code",
   "execution_count": 216,
   "metadata": {},
   "outputs": [],
   "source": [
    "# Get required libraries \n",
    "import numpy as np\n",
    "import pylab as pl\n",
    "import pandas as pd\n",
    "import matplotlib.pyplot as plt \n",
    "import seaborn as sns\n",
    "from sklearn.utils import shuffle\n",
    "from sklearn.svm import SVC\n",
    "from sklearn.metrics import confusion_matrix, classification_report\n",
    "from sklearn.model_selection import cross_val_score, GridSearchCV"
   ]
  },
  {
   "cell_type": "code",
   "execution_count": 217,
   "metadata": {},
   "outputs": [],
   "source": [
    "#Load train and test datasets and shuffle the data \n",
    "import time\n",
    "start = time.process_time()\n",
    "train = shuffle(pd.read_csv(\"./Dataset/final.csv\"))\n",
    "test = shuffle(pd.read_csv(\"./Dataset/final.csv\"))"
   ]
  },
  {
   "cell_type": "code",
   "execution_count": 218,
   "metadata": {},
   "outputs": [],
   "source": [
    "def plot_confusion(classifier, test_pts, test_labels):\n",
    "    cl = ['DOWN',\n",
    "               'FORTH',\n",
    "               'LEFT',\n",
    "               'RIGHT',\n",
    "               'UP']\n",
    "    \n",
    "    pred_label = classifier.predict(test_pts)\n",
    "\n",
    "    result = confusion_matrix(test_labels, pred_label)\n",
    "\n",
    "    fig = plt.figure()\n",
    "    ax = fig.add_subplot(111)\n",
    "    \n",
    "    cax = ax.matshow(result)\n",
    "\n",
    "    fig.colorbar(cax)\n",
    "    ax.set_xticklabels([''] + cl,rotation = 90)\n",
    "    ax.set_yticklabels([''] + cl)\n",
    "    plt.xlabel(\"Predicted Label\")\n",
    "    plt.ylabel(\"True Label\")\n",
    "    plt.show()"
   ]
  },
  {
   "cell_type": "code",
   "execution_count": 219,
   "metadata": {},
   "outputs": [
    {
     "name": "stdout",
     "output_type": "stream",
     "text": [
      "Any missing sample in training set: False\n",
      "Any missing sample in test set: False \n",
      "\n"
     ]
    },
    {
     "data": {
      "text/html": [
       "<div>\n",
       "<style scoped>\n",
       "    .dataframe tbody tr th:only-of-type {\n",
       "        vertical-align: middle;\n",
       "    }\n",
       "\n",
       "    .dataframe tbody tr th {\n",
       "        vertical-align: top;\n",
       "    }\n",
       "\n",
       "    .dataframe thead th {\n",
       "        text-align: right;\n",
       "    }\n",
       "</style>\n",
       "<table border=\"1\" class=\"dataframe\">\n",
       "  <thead>\n",
       "    <tr style=\"text-align: right;\">\n",
       "      <th>col_0</th>\n",
       "      <th>count</th>\n",
       "    </tr>\n",
       "    <tr>\n",
       "      <th>Activity</th>\n",
       "      <th></th>\n",
       "    </tr>\n",
       "  </thead>\n",
       "  <tbody>\n",
       "    <tr>\n",
       "      <th>Down</th>\n",
       "      <td>51</td>\n",
       "    </tr>\n",
       "    <tr>\n",
       "      <th>Forth</th>\n",
       "      <td>51</td>\n",
       "    </tr>\n",
       "    <tr>\n",
       "      <th>Left</th>\n",
       "      <td>41</td>\n",
       "    </tr>\n",
       "    <tr>\n",
       "      <th>Right</th>\n",
       "      <td>51</td>\n",
       "    </tr>\n",
       "    <tr>\n",
       "      <th>Up</th>\n",
       "      <td>40</td>\n",
       "    </tr>\n",
       "  </tbody>\n",
       "</table>\n",
       "</div>"
      ],
      "text/plain": [
       "col_0     count\n",
       "Activity       \n",
       "Down         51\n",
       "Forth        51\n",
       "Left         41\n",
       "Right        51\n",
       "Up           40"
      ]
     },
     "execution_count": 219,
     "metadata": {},
     "output_type": "execute_result"
    }
   ],
   "source": [
    "# Summary statistics of training and test data to check for missing values\n",
    "print(\"Any missing sample in training set:\",train.isnull().values.any())\n",
    "print(\"Any missing sample in test set:\",test.isnull().values.any(), \"\\n\")\n",
    "\n",
    "#Frequency distribution of classes\"\n",
    "train_outcome = pd.crosstab(index=train[\"Activity\"],  # Make a crosstab\n",
    "                              columns=\"count\")      # Name the count column\n",
    "\n",
    "train_outcome\n"
   ]
  },
  {
   "cell_type": "code",
   "execution_count": 220,
   "metadata": {},
   "outputs": [
    {
     "data": {
      "image/png": "[encoded data removed]",
      "text/plain": [
       "<Figure size 432x288 with 1 Axes>"
      ]
     },
     "metadata": {},
     "output_type": "display_data"
    }
   ],
   "source": [
    "# Visualizing Outcome Distribution \n",
    "temp = train[\"Activity\"].value_counts()\n",
    "df = pd.DataFrame({'labels': temp.index,\n",
    "                   'values': temp.values\n",
    "                  })\n",
    "\n",
    "#df.plot(kind='pie',labels='labels',values='values', title='Activity Ditribution',subplots= \"True\")\n",
    "\n",
    "labels = df['labels']\n",
    "sizes = df['values']\n",
    "colors = ['yellowgreen', 'gold', 'lightskyblue', 'lightcoral','cyan','lightpink']\n",
    "patches, texts = plt.pie(sizes, colors=colors, shadow=True, startangle=90, pctdistance=1.1, labeldistance=1.2)\n",
    "plt.legend(patches, labels, loc=\"best\")\n",
    "plt.axis('equal')\n",
    "plt.tight_layout()\n",
    "plt.show()\n"
   ]
  },
  {
   "cell_type": "code",
   "execution_count": 221,
   "metadata": {},
   "outputs": [
    {
     "name": "stdout",
     "output_type": "stream",
     "text": [
      "Dimension of Train set (234, 6)\n",
      "Dimension of Test set (234, 6) \n",
      "\n",
      "['Up' 'Down' 'Left' 'Left' 'Up' 'Right' 'Left' 'Forth' 'Forth' 'Forth'\n",
      " 'Right' 'Left' 'Down' 'Right' 'Forth' 'Left' 'Down' 'Down' 'Left' 'Down'\n",
      " 'Down' 'Left' 'Up' 'Down' 'Up' 'Down' 'Down' 'Forth' 'Down' 'Left'\n",
      " 'Right' 'Left' 'Right' 'Forth' 'Down' 'Forth' 'Up' 'Left' 'Up' 'Left'\n",
      " 'Left' 'Down' 'Down' 'Right' 'Right' 'Right' 'Right' 'Down' 'Forth'\n",
      " 'Down' 'Down' 'Forth' 'Right' 'Right' 'Left' 'Down' 'Down' 'Up' 'Up'\n",
      " 'Forth' 'Down' 'Forth' 'Right' 'Down' 'Up' 'Right' 'Up' 'Left' 'Down'\n",
      " 'Up' 'Forth' 'Left' 'Up' 'Down' 'Down' 'Right' 'Forth' 'Right' 'Forth'\n",
      " 'Forth' 'Left' 'Down' 'Down' 'Right' 'Forth' 'Up' 'Forth' 'Right' 'Right'\n",
      " 'Right' 'Forth' 'Forth' 'Left' 'Right' 'Up' 'Up' 'Forth' 'Forth' 'Forth'\n",
      " 'Up' 'Down' 'Left' 'Forth' 'Up' 'Forth' 'Up' 'Right' 'Up' 'Up' 'Left'\n",
      " 'Forth' 'Forth' 'Up' 'Down' 'Right' 'Left' 'Left' 'Down' 'Up' 'Right'\n",
      " 'Down' 'Up' 'Left' 'Forth' 'Left' 'Up' 'Right' 'Up' 'Forth' 'Forth'\n",
      " 'Right' 'Forth' 'Up' 'Forth' 'Left' 'Forth' 'Down' 'Forth' 'Right' 'Left'\n",
      " 'Down' 'Right' 'Left' 'Down' 'Forth' 'Right' 'Right' 'Left' 'Forth'\n",
      " 'Right' 'Forth' 'Right' 'Left' 'Up' 'Left' 'Forth' 'Right' 'Forth'\n",
      " 'Right' 'Forth' 'Right' 'Forth' 'Down' 'Right' 'Left' 'Down' 'Left'\n",
      " 'Left' 'Left' 'Down' 'Right' 'Right' 'Down' 'Left' 'Right' 'Up' 'Up'\n",
      " 'Down' 'Right' 'Right' 'Down' 'Up' 'Down' 'Left' 'Down' 'Down' 'Left'\n",
      " 'Left' 'Up' 'Down' 'Up' 'Right' 'Down' 'Right' 'Right' 'Right' 'Up'\n",
      " 'Down' 'Up' 'Down' 'Up' 'Forth' 'Up' 'Down' 'Down' 'Down' 'Forth' 'Forth'\n",
      " 'Up' 'Forth' 'Up' 'Forth' 'Up' 'Forth' 'Forth' 'Right' 'Right' 'Right'\n",
      " 'Forth' 'Right' 'Left' 'Down' 'Forth' 'Up' 'Forth' 'Right' 'Down' 'Left'\n",
      " 'Right' 'Forth' 'Left' 'Down' 'Right' 'Left']\n",
      "[4 0 2 2 4 3 2 1 1 1 3 2 0 3 1 2 0 0 2 0 0 2 4 0 4 0 0 1 0 2 3 2 3 1 0 1 4\n",
      " 2 4 2 2 0 0 3 3 3 3 0 1 0 0 1 3 3 2 0 0 4 4 1 0 1 3 0 4 3 4 2 0 4 1 2 4 0\n",
      " 0 3 1 3 1 1 2 0 0 3 1 4 1 3 3 3 1 1 2 3 4 4 1 1 1 4 0 2 1 4 1 4 3 4 4 2 1\n",
      " 1 4 0 3 2 2 0 4 3 0 4 2 1 2 4 3 4 1 1 3 1 4 1 2 1 0 1 3 2 0 3 2 0 1 3 3 2\n",
      " 1 3 1 3 2 4 2 1 3 1 3 1 3 1 0 3 2 0 2 2 2 0 3 3 0 2 3 4 4 0 3 3 0 4 0 2 0\n",
      " 0 2 2 4 0 4 3 0 3 3 3 4 0 4 0 4 1 4 0 0 0 1 1 4 1 4 1 4 1 1 3 3 3 1 3 2 0\n",
      " 1 4 1 3 0 2 3 1 2 0 3 2]\n",
      "Number of numeric features: 6\n",
      "['ACC X', 'ACC Y', 'ACC Z', 'GYRO X', 'GYRO Y', 'GYRO Z']\n",
      "[[-1.1419161  -0.21850543 -0.37256582  0.05909839 -2.2922862   0.93444484]\n",
      " [ 1.60562931 -2.76745361  0.45183514  0.43511413 -0.07596885  0.65031695]\n",
      " [ 0.31020866  0.43716008 -0.43267839  0.60223224  1.63244243  0.08206116]\n",
      " ...\n",
      " [-0.35491323  0.50505444 -0.43267839  0.14265745 -0.26066197 -0.01264814]\n",
      " [ 0.0908229   0.48759589 -0.99945405  0.56045272 -1.69203358 -0.27309871]\n",
      " [ 0.52959441  0.39836331 -0.08059048  0.05909839  0.10872426 -0.46251731]]\n",
      "[[ 1.60562931 -2.76745361  0.45183514  0.43511413 -0.07596885  0.65031695]\n",
      " [-0.35839555  0.46043815  0.12980352 -0.65115357  0.10872426 -0.20206674]\n",
      " [ 1.25391564 -2.87802442  0.59352905 -0.14979924  0.06255098 -0.41516266]\n",
      " ...\n",
      " [ 0.31020866  0.43716008 -0.43267839  0.60223224  1.63244243  0.08206116]\n",
      " [-1.18022155  0.10738749 -1.57911097 -1.57030317  0.24724409 -0.10735744]\n",
      " [-0.26437308  0.22765749  1.6669678   0.35155508  0.20107081 -0.06000279]]\n"
     ]
    }
   ],
   "source": [
    "# Seperating Predictors and Outcome values from train and test sets\n",
    "X_train = pd.DataFrame(train.drop(['Activity'],axis=1))\n",
    "Y_train_label = train.Activity.values.astype(object)\n",
    "X_test = pd.DataFrame(test.drop(['Activity'],axis=1))\n",
    "Y_test_label = test.Activity.values.astype(object)\n",
    "\n",
    "# Dimension of Train and Test set \n",
    "print(\"Dimension of Train set\",X_train.shape)\n",
    "print(\"Dimension of Test set\",X_test.shape,\"\\n\")\n",
    "\n",
    "# Transforming non numerical labels into numerical labels\n",
    "from sklearn import preprocessing\n",
    "encoder = preprocessing.LabelEncoder()\n",
    "\n",
    "# encoding train labels \n",
    "print(Y_train_label)\n",
    "encoder.fit(Y_train_label)\n",
    "Y_train = encoder.transform(Y_train_label)\n",
    "print(Y_train)\n",
    "\n",
    "# encoding test labels \n",
    "encoder.fit(Y_test_label)\n",
    "Y_test = encoder.transform(Y_test_label)\n",
    "\n",
    "#Total Number of Continous and Categorical features in the training set\n",
    "num_cols = X_train._get_numeric_data().columns\n",
    "print(\"Number of numeric features:\",num_cols.size)\n",
    "#list(set(X_train.columns) - set(num_cols))\n",
    "\n",
    "\n",
    "names_of_predictors = list(X_train.columns.values)\n",
    "print(names_of_predictors)\n",
    "\n",
    "# Scaling the Train and Test feature set \n",
    "from sklearn.preprocessing import StandardScaler\n",
    "\n",
    "scaler = StandardScaler()\n",
    "X_train_scaled = scaler.fit_transform(X_train)\n",
    "X_test_scaled = scaler.transform(X_test)\n",
    "print(X_train_scaled)\n",
    "print(X_test_scaled)"
   ]
  },
  {
   "cell_type": "code",
   "execution_count": 222,
   "metadata": {
    "scrolled": false
   },
   "outputs": [
    {
     "name": "stdout",
     "output_type": "stream",
     "text": [
      "0.5341485351123008\n"
     ]
    }
   ],
   "source": [
    "from sklearn.decomposition import PCA\n",
    "\n",
    "pca = PCA(n_components=2)\n",
    "\n",
    "X_train_scaled = pca.fit_transform(X_train_scaled, Y_train)\n",
    "print(pca.explained_variance_ratio_.sum())\n",
    "X_test_scaled = pca.transform(X_test_scaled)"
   ]
  },
  {
   "cell_type": "code",
   "execution_count": 223,
   "metadata": {},
   "outputs": [],
   "source": [
    "#Libraries to Build Ensemble Model : Random Forest Classifier \n",
    "# Create the parameter grid based on the results of random search \n",
    "params_grid = [{'kernel': ['rbf'], 'gamma': [1e-2, 1e-3, 1e-4],\n",
    "                'C': [1, 10, 100]},\n",
    "               {'kernel': ['linear'], 'C': [1, 10, 100]}]\n"
   ]
  },
  {
   "cell_type": "code",
   "execution_count": 224,
   "metadata": {
    "scrolled": true
   },
   "outputs": [
    {
     "name": "stdout",
     "output_type": "stream",
     "text": [
      "Best score for training data: 0.5854885057471264 \n",
      "\n",
      "Best C: 100 \n",
      "\n",
      "Best Kernel: rbf \n",
      "\n",
      "Best Gamma: 0.01 \n",
      "\n"
     ]
    }
   ],
   "source": [
    "# Performing CV to tune parameters for best SVM fit \n",
    "svm_model = GridSearchCV(SVC(), params_grid, cv=8)\n",
    "svm_model.fit(X_train_scaled, Y_train)\n",
    "\n",
    "# View the accuracy score\n",
    "print('Best score for training data:', svm_model.best_score_,\"\\n\") \n",
    "\n",
    "# View the best parameters for the model found using grid search\n",
    "print('Best C:',svm_model.best_estimator_.C,\"\\n\") \n",
    "print('Best Kernel:',svm_model.best_estimator_.kernel,\"\\n\")\n",
    "print('Best Gamma:',svm_model.best_estimator_.gamma,\"\\n\")"
   ]
  },
  {
   "cell_type": "code",
   "execution_count": 225,
   "metadata": {},
   "outputs": [
    {
     "name": "stdout",
     "output_type": "stream",
     "text": [
      "[0 1 0 1 3 1 3 1 2 2 1 1 4 0 1 3 2 1 2 0 0 4 4 0 1 2 3 3 3 3 3 1 1 1 1 3 2\n",
      " 3 3 2 1 1 4 3 3 0 2 0 4 0 3 2 0 3 4 3 1 1 3 3 0 0 0 1 4 4 3 3 1 3 1 3 4 1\n",
      " 0 4 0 0 3 3 3 1 3 2 3 3 4 1 1 2 3 2 4 0 3 1 1 1 4 1 0 4 2 1 4 0 2 4 2 3 0\n",
      " 0 2 1 1 3 3 2 1 3 1 3 0 0 3 1 4 2 3 4 1 2 4 1 3 3 0 3 1 3 1 0 3 1 3 3 4 2\n",
      " 2 1 4 0 3 4 2 3 0 2 3 0 1 0 4 3 3 3 2 0 0 3 3 0 4 3 3 3 1 3 4 0 3 4 0 4 2\n",
      " 1 2 2 3 3 2 4 3 3 2 2 4 3 2 2 1 4 1 0 2 3 3 4 3 2 4 1 0 3 3 4 3 0 1 4 4 4\n",
      " 3 3 3 1 1 3 2 3 1 2 4 3]\n",
      "['Down' 'Forth' 'Down' 'Left' 'Forth' 'Left' 'Right' 'Forth' 'Left'\n",
      " 'Forth' 'Forth' 'Forth' 'Up' 'Down' 'Forth' 'Right' 'Left' 'Right'\n",
      " 'Forth' 'Down' 'Down' 'Up' 'Up' 'Down' 'Left' 'Down' 'Left' 'Right'\n",
      " 'Forth' 'Forth' 'Right' 'Right' 'Left' 'Forth' 'Forth' 'Right' 'Left'\n",
      " 'Forth' 'Forth' 'Left' 'Forth' 'Forth' 'Up' 'Forth' 'Right' 'Down'\n",
      " 'Forth' 'Down' 'Up' 'Down' 'Left' 'Left' 'Down' 'Down' 'Up' 'Right'\n",
      " 'Down' 'Up' 'Left' 'Forth' 'Down' 'Down' 'Down' 'Down' 'Up' 'Up' 'Right'\n",
      " 'Right' 'Right' 'Right' 'Down' 'Forth' 'Up' 'Left' 'Down' 'Up' 'Down'\n",
      " 'Down' 'Forth' 'Forth' 'Right' 'Left' 'Forth' 'Left' 'Right' 'Right' 'Up'\n",
      " 'Right' 'Forth' 'Right' 'Left' 'Left' 'Up' 'Down' 'Forth' 'Right' 'Right'\n",
      " 'Up' 'Up' 'Down' 'Down' 'Up' 'Left' 'Forth' 'Up' 'Down' 'Up' 'Up' 'Down'\n",
      " 'Right' 'Down' 'Down' 'Down' 'Right' 'Down' 'Right' 'Right' 'Left'\n",
      " 'Forth' 'Forth' 'Right' 'Forth' 'Down' 'Down' 'Right' 'Down' 'Up' 'Left'\n",
      " 'Right' 'Up' 'Right' 'Left' 'Up' 'Forth' 'Forth' 'Right' 'Down' 'Left'\n",
      " 'Forth' 'Right' 'Down' 'Down' 'Right' 'Forth' 'Right' 'Right' 'Up' 'Left'\n",
      " 'Down' 'Forth' 'Up' 'Down' 'Forth' 'Up' 'Right' 'Forth' 'Down' 'Left'\n",
      " 'Forth' 'Down' 'Down' 'Down' 'Up' 'Left' 'Right' 'Right' 'Left' 'Down'\n",
      " 'Down' 'Forth' 'Left' 'Down' 'Up' 'Left' 'Forth' 'Right' 'Right' 'Forth'\n",
      " 'Up' 'Down' 'Right' 'Up' 'Down' 'Up' 'Left' 'Left' 'Left' 'Down' 'Right'\n",
      " 'Right' 'Right' 'Up' 'Forth' 'Right' 'Left' 'Right' 'Up' 'Forth' 'Left'\n",
      " 'Forth' 'Down' 'Up' 'Forth' 'Forth' 'Left' 'Right' 'Forth' 'Up' 'Left'\n",
      " 'Right' 'Up' 'Right' 'Down' 'Forth' 'Left' 'Up' 'Right' 'Down' 'Forth'\n",
      " 'Up' 'Up' 'Up' 'Forth' 'Left' 'Right' 'Right' 'Left' 'Left' 'Left'\n",
      " 'Forth' 'Right' 'Left' 'Up' 'Forth']\n",
      "[[36  9  5  1  0]\n",
      " [ 1 18  4 28  0]\n",
      " [ 0  8 21 12  0]\n",
      " [ 0 13  5 33  0]\n",
      " [ 0  2  1  0 37]]\n",
      "\n",
      "\n",
      "              precision    recall  f1-score   support\n",
      "\n",
      "        Down       0.97      0.71      0.82        51\n",
      "       Forth       0.36      0.35      0.36        51\n",
      "        Left       0.58      0.51      0.55        41\n",
      "       Right       0.45      0.65      0.53        51\n",
      "          Up       1.00      0.93      0.96        40\n",
      "\n",
      "    accuracy                           0.62       234\n",
      "   macro avg       0.67      0.63      0.64       234\n",
      "weighted avg       0.66      0.62      0.63       234\n",
      "\n"
     ]
    },
    {
     "name": "stderr",
     "output_type": "stream",
     "text": [
      "<ipython-input-218-8f06aa866d90>:18: UserWarning: FixedFormatter should only be used together with FixedLocator\n",
      "  ax.set_xticklabels([''] + cl,rotation = 90)\n",
      "<ipython-input-218-8f06aa866d90>:19: UserWarning: FixedFormatter should only be used together with FixedLocator\n",
      "  ax.set_yticklabels([''] + cl)\n"
     ]
    },
    {
     "data": {
      "image/png": "[encoded data removed]",
      "text/plain": [
       "<Figure size 432x288 with 2 Axes>"
      ]
     },
     "metadata": {
      "needs_background": "light"
     },
     "output_type": "display_data"
    },
    {
     "name": "stdout",
     "output_type": "stream",
     "text": [
      "Training set score for SVM: 0.619658\n",
      "Testing  set score for SVM: 0.619658\n",
      "Running time: 1.34375 Seconds\n"
     ]
    }
   ],
   "source": [
    "final_model = svm_model.best_estimator_\n",
    "Y_pred = final_model.predict(X_test_scaled)\n",
    "print(Y_pred)\n",
    "Y_pred_label = list(encoder.inverse_transform(Y_pred))\n",
    "#Y_pred_label = ['Forth','Forth','Forth','Forth','DOWN','Up','DOWN','Forth','Right','Left','DOWN','Left','Right','Up','Forth','Right','Right','Forth','Right','Right','Forth','Forth','Right','Right','Right','Right','Right','Right','Right','Up','Forth','Right','Right','Left','Right','Left','Right'\n",
    "#,'Forth','Left','DOWN','Up’,’DOWN','Up','DOWN','DOWN','Up','Right','Up','DOWN','DOWN','Right','Up','Up','Right','DOWN','Left','DOWN','Left','Up','Right','Forth','Right','DOWN','Left','Up','Up','DOWN','DOWN','Up','DOWN','Forth','Forth','Up','Right'\n",
    "#,'Right','DOWN','Right','Forth','Up','Forth','DOWN','DOWN','Right','Forth','Left','DOWN','Left','DOWN','Right','Right','Up','Forth','Right','Up','DOWN','Right','Right','DOWN','Left','DOWN','Right','Forth','Right','Left','Forth','Up','Forth','Right','Right','Up','Up'\n",
    "#,'Forth','Forth','Right','Forth','Forth','Left','Right','DOWN','Up','Left','Up','Up','Left','Right','Up','Forth','Up','Up','Up','Forth','Right','Left','Up','Forth','Right','Forth','Right','Forth','Forth','Left','Right','Forth','Forth','Forth','Up','Forth','Forth'\n",
    "#,'Right','DOWN','Forth','Right','Forth','Forth','Left','Right','Left','DOWN','Right','Left','Right','DOWN','Forth','Forth','Up','Right','Right','Right','Left','Right','Left','DOWN','Left','Up','Left','Right','DOWN','Right','Forth','Forth','Right','Forth','Up','Up','Forth'\n",
    "#,'DOWN','Up','Left','Up','Up','Left','Right','Right','Right','DOWN','Forth','Right','Right','Right','Right','Forth','Left','DOWN','Forth','Up','DOWN','Left','Forth','Right','Left','Right','Forth','Left','Left','DOWN','Right','Right','DOWN','Right','Up','Forth','Right'\n",
    "#,'DOWN','Right','Right','Forth','Forth','Left','Forth','Left','Forth','DOWN','Right','DOWN', 'UP']\n",
    "\n",
    "\n",
    "\n",
    "\n",
    "\n",
    "\n",
    "\n",
    "# Making the Confusion Matrix\n",
    "print(Y_test_label)\n",
    "print(confusion_matrix(Y_test_label,Y_pred_label)) #Original\n",
    "#print(confusion_matrix(Y_test_label,Y_test_label))\n",
    "print(\"\\n\")\n",
    "print(classification_report(Y_test_label,Y_pred_label))\n",
    "plot_confusion(final_model,X_test_scaled , Y_test)\n",
    "\n",
    "print(\"Training set score for SVM: %f\" % final_model.score(X_train_scaled , Y_train))\n",
    "print(\"Testing  set score for SVM: %f\" % final_model.score(X_test_scaled  , Y_test ))\n",
    "\n",
    "end = time.process_time()\n",
    "print('Running time: %s Seconds'%(end-start))"
   ]
  },
  {
   "cell_type": "code",
   "execution_count": null,
   "metadata": {},
   "outputs": [],
   "source": []
  },
  {
   "cell_type": "code",
   "execution_count": null,
   "metadata": {},
   "outputs": [],
   "source": []
  },
  {
   "cell_type": "code",
   "execution_count": null,
   "metadata": {},
   "outputs": [],
   "source": []
  }
 ],
 "metadata": {
  "kernelspec": {
   "display_name": "Python 3",
   "language": "python",
   "name": "python3"
  },
  "language_info": {
   "codemirror_mode": {
    "name": "ipython",
    "version": 3
   },
   "file_extension": ".py",
   "mimetype": "text/x-python",
   "name": "python",
   "nbconvert_exporter": "python",
   "pygments_lexer": "ipython3",
   "version": "3.8.5"
  }
 },
 "nbformat": 4,
 "nbformat_minor": 2
}
